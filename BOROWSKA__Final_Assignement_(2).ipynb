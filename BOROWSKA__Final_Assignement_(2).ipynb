{
  "cells": [
    {
      "cell_type": "markdown",
      "metadata": {
        "id": "view-in-github",
        "colab_type": "text"
      },
      "source": [
        "<a href=\"https://colab.research.google.com/github/ambo2020/Anna-Borowska/blob/master/BOROWSKA__Final_Assignement_(2).ipynb\" target=\"_parent\"><img src=\"https://colab.research.google.com/assets/colab-badge.svg\" alt=\"Open In Colab\"/></a>"
      ]
    },
    {
      "cell_type": "markdown",
      "id": "28a46612-e015-475c-8b2b-5fecb5c99690",
      "metadata": {
        "id": "28a46612-e015-475c-8b2b-5fecb5c99690"
      },
      "source": [
        "## Final Assignement: Borowska Anna Maria \n",
        "\n",
        "3. In this assignment, i expect you can freely choose a dataset of interest (text, numbers, mixed data, etc.) \n",
        "and process it using the packages as seen in class. The idea is to make explicit the research questions and \n",
        "produce analysis and visualizations, using the Jupyter Notebook.\n"
      ]
    },
    {
      "cell_type": "markdown",
      "id": "96973fbe-f50e-4f31-af78-b23b3da9bdbe",
      "metadata": {
        "id": "96973fbe-f50e-4f31-af78-b23b3da9bdbe"
      },
      "source": [
        "4. This is the last and fourth assignment. I expect you can enhance the analysis started in the third assignment, \n",
        "using the tools and techniques we have learned since.\n"
      ]
    },
    {
      "cell_type": "markdown",
      "id": "a7c5ea93-aca4-4fe4-adbd-f27bcf5625ae",
      "metadata": {
        "id": "a7c5ea93-aca4-4fe4-adbd-f27bcf5625ae"
      },
      "source": [
        "# Project Title: Vienna Monuments Interactive Map\n",
        "## Research/Business questions:\n",
        "Creating a dynamic connection between the existing 'Wien Kulturgut' map andthe excel inventory of the Heritage preservation Office (BDA).\n",
        "## Data Description:\n",
        "[Vienna Map](https://www.wien.gv.at/kulturportal/public/)  \n",
        "[BDA](https://bda.gv.at/denkmalverzeichnis/#wien)  \n",
        "## Data Processing Pipeline (Methodology):\n",
        "\n",
        "1. Scrapping Data (EXCEL) from [BDA](https://bda.gv.at/denkmalverzeichnis/#wien) or downlading the csv file and then upload it in Jupyter.\n",
        "2. Cleaning the Data in python.\n",
        "3. Transforming the adresses in the dataframe into a list and then connect them to the geolocator (latitude and longitude).  \n",
        "4. Categorize Data: Types of Buildings and monuments should be later visible on thr map (colours of the pins).\n",
        "5. To visualize Data, using f.ex. plotly or folium (https://plotly.com/python/maps/; https://python-visualization.github.io/folium/)\n",
        "or connect the pins with [Stadt Wien Map](https://www.data.gv.at/katalog/dataset/stadt-wien_bezirksgrenzenwien/resource/f1540ea4-edd4-42f5-9b39-2cbba97fea36.\n",
        "\n"
      ]
    },
    {
      "cell_type": "markdown",
      "id": "1c70a781-bf9f-4d29-9932-ab35b85898e8",
      "metadata": {
        "id": "1c70a781-bf9f-4d29-9932-ab35b85898e8"
      },
      "source": [
        "#### Useful Links:\n",
        "https://www.markdownguide.org/basic-syntax/  \n",
        "\n",
        "https://www.openstreetmap.org/#map=7/47.714/13.349  \n",
        "\n",
        "https://www.wien.gv.at/viennagis/datendownload.html  \n",
        "\n",
        "https://www.data.gv.at/katalog/dataset/2ee6b8bf-6292-413c-bb8b-bd22dbb2ad4b  "
      ]
    },
    {
      "cell_type": "markdown",
      "id": "a1db5ade-6512-42d3-99ad-b26632bb2ef7",
      "metadata": {
        "id": "a1db5ade-6512-42d3-99ad-b26632bb2ef7"
      },
      "source": [
        "## Scraping Data"
      ]
    },
    {
      "cell_type": "code",
      "execution_count": null,
      "id": "66b4035d-7a02-4e5c-88f1-0fc22c6eab61",
      "metadata": {
        "id": "66b4035d-7a02-4e5c-88f1-0fc22c6eab61"
      },
      "outputs": [],
      "source": [
        "import re\n",
        "import pandas as pd\n",
        "import numpy as np\n",
        "import matplotlib.pyplot as plt\n",
        "import seaborn as sns\n",
        "\n",
        "\n",
        "import requests\n",
        "import urllib\n",
        "from bs4 import BeautifulSoup as bs\n",
        "\n",
        "%matplotlib inline"
      ]
    },
    {
      "cell_type": "code",
      "execution_count": null,
      "id": "5ad43a6b-349d-4adf-a0b3-09c0dda225af",
      "metadata": {
        "id": "5ad43a6b-349d-4adf-a0b3-09c0dda225af"
      },
      "outputs": [],
      "source": [
        "from IPython.display import Image"
      ]
    },
    {
      "cell_type": "code",
      "execution_count": null,
      "id": "fa19afcc-6f2e-45d3-932c-93afd05091d0",
      "metadata": {
        "id": "fa19afcc-6f2e-45d3-932c-93afd05091d0"
      },
      "outputs": [],
      "source": [
        "\n",
        "Image(url=\"https://image.posterlounge.ch/img/products/690000/684926/684926_poster_l.jpg\")"
      ]
    },
    {
      "cell_type": "code",
      "execution_count": null,
      "id": "d5018082-7c5c-4992-97d3-eeb705920330",
      "metadata": {
        "id": "d5018082-7c5c-4992-97d3-eeb705920330"
      },
      "outputs": [],
      "source": [
        "Image(url=\"https://images.cdn1.stockunlimited.net/preview1300/landmarks-on-austria-map_1963303.jpg\")"
      ]
    },
    {
      "cell_type": "code",
      "execution_count": null,
      "id": "c4ae9686-5c99-432f-bdd2-bb97b97eda5c",
      "metadata": {
        "id": "c4ae9686-5c99-432f-bdd2-bb97b97eda5c",
        "outputId": "855726eb-f504-4344-89c8-34908fb86c3b"
      },
      "outputs": [
        {
          "data": {
            "text/plain": [
              "1"
            ]
          },
          "execution_count": 10,
          "metadata": {},
          "output_type": "execute_result"
        }
      ],
      "source": [
        "url1=\"https://bda.gv.at/denkmalverzeichnis/#wien\"\n",
        "list_df_tables = pd.read_html(url1)\n",
        "len(list_df_tables)"
      ]
    },
    {
      "cell_type": "code",
      "execution_count": null,
      "id": "56026d93-133a-476f-9393-b0d1d424c5b1",
      "metadata": {
        "tags": [],
        "id": "56026d93-133a-476f-9393-b0d1d424c5b1",
        "outputId": "02b940cf-ff29-4a7d-8351-60794a0a8061"
      },
      "outputs": [
        {
          "data": {
            "text/html": [
              "<div>\n",
              "<style scoped>\n",
              "    .dataframe tbody tr th:only-of-type {\n",
              "        vertical-align: middle;\n",
              "    }\n",
              "\n",
              "    .dataframe tbody tr th {\n",
              "        vertical-align: top;\n",
              "    }\n",
              "\n",
              "    .dataframe thead th {\n",
              "        text-align: right;\n",
              "    }\n",
              "</style>\n",
              "<table border=\"1\" class=\"dataframe\">\n",
              "  <thead>\n",
              "    <tr style=\"text-align: right;\">\n",
              "      <th></th>\n",
              "      <th>0</th>\n",
              "      <th>1</th>\n",
              "    </tr>\n",
              "  </thead>\n",
              "  <tbody>\n",
              "    <tr>\n",
              "      <th>0</th>\n",
              "      <td>Burgenland</td>\n",
              "      <td>2.118 Objekte</td>\n",
              "    </tr>\n",
              "    <tr>\n",
              "      <th>1</th>\n",
              "      <td>Kärnten</td>\n",
              "      <td>2.986 Objekte</td>\n",
              "    </tr>\n",
              "    <tr>\n",
              "      <th>2</th>\n",
              "      <td>Niederösterreich</td>\n",
              "      <td>10.667 Objekte</td>\n",
              "    </tr>\n",
              "    <tr>\n",
              "      <th>3</th>\n",
              "      <td>Oberösterreich</td>\n",
              "      <td>5.936 Objekte</td>\n",
              "    </tr>\n",
              "    <tr>\n",
              "      <th>4</th>\n",
              "      <td>Salzburg</td>\n",
              "      <td>2.202 Objekte</td>\n",
              "    </tr>\n",
              "    <tr>\n",
              "      <th>5</th>\n",
              "      <td>Steiermark</td>\n",
              "      <td>4.996 Objekte</td>\n",
              "    </tr>\n",
              "    <tr>\n",
              "      <th>6</th>\n",
              "      <td>Tirol</td>\n",
              "      <td>4.881 Objekte</td>\n",
              "    </tr>\n",
              "    <tr>\n",
              "      <th>7</th>\n",
              "      <td>Vorarlberg</td>\n",
              "      <td>1.650 Objekte</td>\n",
              "    </tr>\n",
              "    <tr>\n",
              "      <th>8</th>\n",
              "      <td>Wien</td>\n",
              "      <td>3.367 Objekte</td>\n",
              "    </tr>\n",
              "    <tr>\n",
              "      <th>9</th>\n",
              "      <td>GESAMT</td>\n",
              "      <td>38.803 Objekte</td>\n",
              "    </tr>\n",
              "  </tbody>\n",
              "</table>\n",
              "</div>"
            ],
            "text/plain": [
              "                  0               1\n",
              "0        Burgenland   2.118 Objekte\n",
              "1           Kärnten   2.986 Objekte\n",
              "2  Niederösterreich  10.667 Objekte\n",
              "3    Oberösterreich   5.936 Objekte\n",
              "4          Salzburg   2.202 Objekte\n",
              "5        Steiermark   4.996 Objekte\n",
              "6             Tirol   4.881 Objekte\n",
              "7        Vorarlberg   1.650 Objekte\n",
              "8              Wien   3.367 Objekte\n",
              "9            GESAMT  38.803 Objekte"
            ]
          },
          "execution_count": 11,
          "metadata": {},
          "output_type": "execute_result"
        }
      ],
      "source": [
        "list_df_tables[0].head(10)\n"
      ]
    },
    {
      "cell_type": "markdown",
      "id": "c8d5f05b-29d8-4c60-8f4c-67b3a54388b5",
      "metadata": {
        "id": "c8d5f05b-29d8-4c60-8f4c-67b3a54388b5"
      },
      "source": [
        "### Creating Dataframe "
      ]
    },
    {
      "cell_type": "markdown",
      "id": "51304387-f2cc-438f-85e8-be8b7ba82edd",
      "metadata": {
        "id": "51304387-f2cc-438f-85e8-be8b7ba82edd"
      },
      "source": [
        "#### Scraping/ Uploading EXCEL\n",
        "scraping csv.file from Homepage https://bda.gv.at/denkmalverzeichnis/#wien\n",
        "Problem: It is possible to scrap tabellas, but it doesn't find the file on the HP.\n",
        "It only works when csv is downloaded and saved in Jupiter- but it would be important to scrap this file from the HP."
      ]
    },
    {
      "cell_type": "code",
      "execution_count": null,
      "id": "57b86c12-04bb-4f50-9478-f56813866c84",
      "metadata": {
        "id": "57b86c12-04bb-4f50-9478-f56813866c84"
      },
      "outputs": [],
      "source": [
        "df = pd.read_csv(\"Documents/PYTHON/Python_Course-master/Denkmalliste.csv\", sep=';')"
      ]
    },
    {
      "cell_type": "code",
      "execution_count": null,
      "id": "839074a5-49ed-4fe5-86d4-efa00ffc800e",
      "metadata": {
        "id": "839074a5-49ed-4fe5-86d4-efa00ffc800e",
        "outputId": "c3883270-84e3-4a62-9fd6-69846a7393d7"
      },
      "outputs": [
        {
          "data": {
            "text/html": [
              "<div>\n",
              "<style scoped>\n",
              "    .dataframe tbody tr th:only-of-type {\n",
              "        vertical-align: middle;\n",
              "    }\n",
              "\n",
              "    .dataframe tbody tr th {\n",
              "        vertical-align: top;\n",
              "    }\n",
              "\n",
              "    .dataframe thead th {\n",
              "        text-align: right;\n",
              "    }\n",
              "</style>\n",
              "<table border=\"1\" class=\"dataframe\">\n",
              "  <thead>\n",
              "    <tr style=\"text-align: right;\">\n",
              "      <th></th>\n",
              "      <th>HERIS-ID</th>\n",
              "      <th>Bundesland</th>\n",
              "      <th>Gemeinde</th>\n",
              "      <th>KG</th>\n",
              "      <th>Katalogtitel</th>\n",
              "      <th>Adresse</th>\n",
              "      <th>GSTK-Nr.</th>\n",
              "      <th>Denkmalschutzstatus</th>\n",
              "    </tr>\n",
              "  </thead>\n",
              "  <tbody>\n",
              "    <tr>\n",
              "      <th>0</th>\n",
              "      <td>62123</td>\n",
              "      <td>Wien</td>\n",
              "      <td>Wien</td>\n",
              "      <td>01109 Albern</td>\n",
              "      <td>Kriegerdenkmal</td>\n",
              "      <td>Sendnergasse 112, 1110 Wien (Simmering) (bei)</td>\n",
              "      <td>167</td>\n",
              "      <td>Denkmalschutz per Verordnung</td>\n",
              "    </tr>\n",
              "    <tr>\n",
              "      <th>1</th>\n",
              "      <td>41065</td>\n",
              "      <td>Wien</td>\n",
              "      <td>Wien</td>\n",
              "      <td>01109 Albern</td>\n",
              "      <td>Friedhof der Namenlosen</td>\n",
              "      <td>Alberner Hafenzufahrtsstraße  1110 Wien 11 - S...</td>\n",
              "      <td>217/2, 217/3</td>\n",
              "      <td>Denkmalschutz per Bescheid (Feststellungsbesch...</td>\n",
              "    </tr>\n",
              "    <tr>\n",
              "      <th>2</th>\n",
              "      <td>10733</td>\n",
              "      <td>Wien</td>\n",
              "      <td>Wien</td>\n",
              "      <td>01002 Alsergrund</td>\n",
              "      <td>Miethaus, Dreilauferhaus</td>\n",
              "      <td>Alser Straße 38, 1090 Wien (Alsergrund)</td>\n",
              "      <td>364/12</td>\n",
              "      <td>Denkmalschutz per Bescheid (Feststellungsbesch...</td>\n",
              "    </tr>\n",
              "    <tr>\n",
              "      <th>3</th>\n",
              "      <td>21560</td>\n",
              "      <td>Wien</td>\n",
              "      <td>Wien</td>\n",
              "      <td>01002 Alsergrund</td>\n",
              "      <td>Altes Allgemeines Krankenhaus, heute Universit...</td>\n",
              "      <td>Alser Straße 4, 1090 Wien (Alsergrund)</td>\n",
              "      <td>235/1, 235/15, 235/16, 235/17, 228/8</td>\n",
              "      <td>Denkmalschutz per Verordnung</td>\n",
              "    </tr>\n",
              "    <tr>\n",
              "      <th>4</th>\n",
              "      <td>21561</td>\n",
              "      <td>Wien</td>\n",
              "      <td>Wien</td>\n",
              "      <td>01002 Alsergrund</td>\n",
              "      <td>Ehem. Bethaus des Alten allgemeinen Krankenhauses</td>\n",
              "      <td>Alser Straße 4, 1090 Wien (Alsergrund)</td>\n",
              "      <td>235/1</td>\n",
              "      <td>Denkmalschutz per Verordnung</td>\n",
              "    </tr>\n",
              "  </tbody>\n",
              "</table>\n",
              "</div>"
            ],
            "text/plain": [
              "   HERIS-ID Bundesland Gemeinde                KG  \\\n",
              "0     62123       Wien     Wien      01109 Albern   \n",
              "1     41065       Wien     Wien      01109 Albern   \n",
              "2     10733       Wien     Wien  01002 Alsergrund   \n",
              "3     21560       Wien     Wien  01002 Alsergrund   \n",
              "4     21561       Wien     Wien  01002 Alsergrund   \n",
              "\n",
              "                                        Katalogtitel  \\\n",
              "0                                     Kriegerdenkmal   \n",
              "1                            Friedhof der Namenlosen   \n",
              "2                           Miethaus, Dreilauferhaus   \n",
              "3  Altes Allgemeines Krankenhaus, heute Universit...   \n",
              "4  Ehem. Bethaus des Alten allgemeinen Krankenhauses   \n",
              "\n",
              "                                             Adresse  \\\n",
              "0      Sendnergasse 112, 1110 Wien (Simmering) (bei)   \n",
              "1  Alberner Hafenzufahrtsstraße  1110 Wien 11 - S...   \n",
              "2            Alser Straße 38, 1090 Wien (Alsergrund)   \n",
              "3             Alser Straße 4, 1090 Wien (Alsergrund)   \n",
              "4             Alser Straße 4, 1090 Wien (Alsergrund)   \n",
              "\n",
              "                               GSTK-Nr.  \\\n",
              "0                                   167   \n",
              "1                          217/2, 217/3   \n",
              "2                                364/12   \n",
              "3  235/1, 235/15, 235/16, 235/17, 228/8   \n",
              "4                                 235/1   \n",
              "\n",
              "                                 Denkmalschutzstatus  \n",
              "0                       Denkmalschutz per Verordnung  \n",
              "1  Denkmalschutz per Bescheid (Feststellungsbesch...  \n",
              "2  Denkmalschutz per Bescheid (Feststellungsbesch...  \n",
              "3                       Denkmalschutz per Verordnung  \n",
              "4                       Denkmalschutz per Verordnung  "
            ]
          },
          "execution_count": 13,
          "metadata": {},
          "output_type": "execute_result"
        }
      ],
      "source": [
        "df.head()"
      ]
    },
    {
      "cell_type": "markdown",
      "id": "a80aafa0-30e3-49db-bfe6-cb6679d7fc6e",
      "metadata": {
        "tags": [],
        "id": "a80aafa0-30e3-49db-bfe6-cb6679d7fc6e"
      },
      "source": [
        "### Cleaning Data"
      ]
    },
    {
      "cell_type": "code",
      "execution_count": null,
      "id": "1abaf29c-2133-43f0-9849-0e6aeb8bf994",
      "metadata": {
        "id": "1abaf29c-2133-43f0-9849-0e6aeb8bf994",
        "outputId": "3ebdec53-baa7-47c7-b8f6-ff09b11661f1"
      },
      "outputs": [
        {
          "data": {
            "text/plain": [
              "Index(['HERIS-ID', 'Bundesland', 'Gemeinde', 'KG', 'Katalogtitel', 'Adresse',\n",
              "       'GSTK-Nr.', 'Denkmalschutzstatus'],\n",
              "      dtype='object')"
            ]
          },
          "execution_count": 14,
          "metadata": {},
          "output_type": "execute_result"
        }
      ],
      "source": [
        "df.columns\n"
      ]
    },
    {
      "cell_type": "code",
      "execution_count": null,
      "id": "5f4db78c-bc01-49e8-8cd9-d44ad8afb23d",
      "metadata": {
        "id": "5f4db78c-bc01-49e8-8cd9-d44ad8afb23d",
        "outputId": "d86014e8-f777-49e8-b74c-8a44c899084d"
      },
      "outputs": [
        {
          "data": {
            "text/html": [
              "<div>\n",
              "<style scoped>\n",
              "    .dataframe tbody tr th:only-of-type {\n",
              "        vertical-align: middle;\n",
              "    }\n",
              "\n",
              "    .dataframe tbody tr th {\n",
              "        vertical-align: top;\n",
              "    }\n",
              "\n",
              "    .dataframe thead th {\n",
              "        text-align: right;\n",
              "    }\n",
              "</style>\n",
              "<table border=\"1\" class=\"dataframe\">\n",
              "  <thead>\n",
              "    <tr style=\"text-align: right;\">\n",
              "      <th></th>\n",
              "      <th>Gemeinde</th>\n",
              "      <th>Katalogtitel</th>\n",
              "      <th>Adresse</th>\n",
              "      <th>GSTK-Nr.</th>\n",
              "      <th>Denkmalschutzstatus</th>\n",
              "    </tr>\n",
              "  </thead>\n",
              "  <tbody>\n",
              "    <tr>\n",
              "      <th>0</th>\n",
              "      <td>Wien</td>\n",
              "      <td>Kriegerdenkmal</td>\n",
              "      <td>Sendnergasse 112, 1110 Wien (Simmering) (bei)</td>\n",
              "      <td>167</td>\n",
              "      <td>Denkmalschutz per Verordnung</td>\n",
              "    </tr>\n",
              "    <tr>\n",
              "      <th>1</th>\n",
              "      <td>Wien</td>\n",
              "      <td>Friedhof der Namenlosen</td>\n",
              "      <td>Alberner Hafenzufahrtsstraße  1110 Wien 11 - S...</td>\n",
              "      <td>217/2, 217/3</td>\n",
              "      <td>Denkmalschutz per Bescheid (Feststellungsbesch...</td>\n",
              "    </tr>\n",
              "    <tr>\n",
              "      <th>2</th>\n",
              "      <td>Wien</td>\n",
              "      <td>Miethaus, Dreilauferhaus</td>\n",
              "      <td>Alser Straße 38, 1090 Wien (Alsergrund)</td>\n",
              "      <td>364/12</td>\n",
              "      <td>Denkmalschutz per Bescheid (Feststellungsbesch...</td>\n",
              "    </tr>\n",
              "    <tr>\n",
              "      <th>3</th>\n",
              "      <td>Wien</td>\n",
              "      <td>Altes Allgemeines Krankenhaus, heute Universit...</td>\n",
              "      <td>Alser Straße 4, 1090 Wien (Alsergrund)</td>\n",
              "      <td>235/1, 235/15, 235/16, 235/17, 228/8</td>\n",
              "      <td>Denkmalschutz per Verordnung</td>\n",
              "    </tr>\n",
              "    <tr>\n",
              "      <th>4</th>\n",
              "      <td>Wien</td>\n",
              "      <td>Ehem. Bethaus des Alten allgemeinen Krankenhauses</td>\n",
              "      <td>Alser Straße 4, 1090 Wien (Alsergrund)</td>\n",
              "      <td>235/1</td>\n",
              "      <td>Denkmalschutz per Verordnung</td>\n",
              "    </tr>\n",
              "    <tr>\n",
              "      <th>...</th>\n",
              "      <td>...</td>\n",
              "      <td>...</td>\n",
              "      <td>...</td>\n",
              "      <td>...</td>\n",
              "      <td>...</td>\n",
              "    </tr>\n",
              "    <tr>\n",
              "      <th>3362</th>\n",
              "      <td>Wien</td>\n",
              "      <td>Denkmal Joseph Ressel</td>\n",
              "      <td>Resselpark C, 1040 Wien (Wieden) (bei)</td>\n",
              "      <td>660/1</td>\n",
              "      <td>Denkmalschutz per Verordnung</td>\n",
              "    </tr>\n",
              "    <tr>\n",
              "      <th>3363</th>\n",
              "      <td>Wien</td>\n",
              "      <td>Schutzengelbrunnen</td>\n",
              "      <td>Rilkeplatz 7, 1040 Wien (Wieden) (bei)</td>\n",
              "      <td>1592/2</td>\n",
              "      <td>Denkmalschutz per Verordnung</td>\n",
              "    </tr>\n",
              "    <tr>\n",
              "      <th>3364</th>\n",
              "      <td>Wien</td>\n",
              "      <td>Figur Maria Immaculata</td>\n",
              "      <td>Wiedner Hauptstraße 19, 1040 Wien (Wieden) (bei)</td>\n",
              "      <td>1592/1</td>\n",
              "      <td>Denkmalschutz per Verordnung</td>\n",
              "    </tr>\n",
              "    <tr>\n",
              "      <th>3365</th>\n",
              "      <td>Wien</td>\n",
              "      <td>Ehem. Stadtbahn - Teilbereich der heutigen U4</td>\n",
              "      <td>NaN</td>\n",
              "      <td>1679</td>\n",
              "      <td>Denkmalschutz per Bescheid (Unterschutzstellun...</td>\n",
              "    </tr>\n",
              "    <tr>\n",
              "      <th>3366</th>\n",
              "      <td>Wien</td>\n",
              "      <td>Wientalverbauung</td>\n",
              "      <td>NaN</td>\n",
              "      <td>1595/9, 1703/73</td>\n",
              "      <td>Denkmalschutz per Bescheid (Feststellungsbesch...</td>\n",
              "    </tr>\n",
              "  </tbody>\n",
              "</table>\n",
              "<p>3367 rows × 5 columns</p>\n",
              "</div>"
            ],
            "text/plain": [
              "     Gemeinde                                       Katalogtitel  \\\n",
              "0        Wien                                     Kriegerdenkmal   \n",
              "1        Wien                            Friedhof der Namenlosen   \n",
              "2        Wien                           Miethaus, Dreilauferhaus   \n",
              "3        Wien  Altes Allgemeines Krankenhaus, heute Universit...   \n",
              "4        Wien  Ehem. Bethaus des Alten allgemeinen Krankenhauses   \n",
              "...       ...                                                ...   \n",
              "3362     Wien                              Denkmal Joseph Ressel   \n",
              "3363     Wien                                 Schutzengelbrunnen   \n",
              "3364     Wien                             Figur Maria Immaculata   \n",
              "3365     Wien      Ehem. Stadtbahn - Teilbereich der heutigen U4   \n",
              "3366     Wien                                   Wientalverbauung   \n",
              "\n",
              "                                                Adresse  \\\n",
              "0         Sendnergasse 112, 1110 Wien (Simmering) (bei)   \n",
              "1     Alberner Hafenzufahrtsstraße  1110 Wien 11 - S...   \n",
              "2               Alser Straße 38, 1090 Wien (Alsergrund)   \n",
              "3                Alser Straße 4, 1090 Wien (Alsergrund)   \n",
              "4                Alser Straße 4, 1090 Wien (Alsergrund)   \n",
              "...                                                 ...   \n",
              "3362             Resselpark C, 1040 Wien (Wieden) (bei)   \n",
              "3363             Rilkeplatz 7, 1040 Wien (Wieden) (bei)   \n",
              "3364   Wiedner Hauptstraße 19, 1040 Wien (Wieden) (bei)   \n",
              "3365                                                NaN   \n",
              "3366                                                NaN   \n",
              "\n",
              "                                  GSTK-Nr.  \\\n",
              "0                                      167   \n",
              "1                             217/2, 217/3   \n",
              "2                                   364/12   \n",
              "3     235/1, 235/15, 235/16, 235/17, 228/8   \n",
              "4                                    235/1   \n",
              "...                                    ...   \n",
              "3362                                 660/1   \n",
              "3363                                1592/2   \n",
              "3364                                1592/1   \n",
              "3365                                  1679   \n",
              "3366                       1595/9, 1703/73   \n",
              "\n",
              "                                    Denkmalschutzstatus  \n",
              "0                          Denkmalschutz per Verordnung  \n",
              "1     Denkmalschutz per Bescheid (Feststellungsbesch...  \n",
              "2     Denkmalschutz per Bescheid (Feststellungsbesch...  \n",
              "3                          Denkmalschutz per Verordnung  \n",
              "4                          Denkmalschutz per Verordnung  \n",
              "...                                                 ...  \n",
              "3362                       Denkmalschutz per Verordnung  \n",
              "3363                       Denkmalschutz per Verordnung  \n",
              "3364                       Denkmalschutz per Verordnung  \n",
              "3365  Denkmalschutz per Bescheid (Unterschutzstellun...  \n",
              "3366  Denkmalschutz per Bescheid (Feststellungsbesch...  \n",
              "\n",
              "[3367 rows x 5 columns]"
            ]
          },
          "execution_count": 15,
          "metadata": {},
          "output_type": "execute_result"
        }
      ],
      "source": [
        "df[['Gemeinde', 'Katalogtitel', 'Adresse','GSTK-Nr.', 'Denkmalschutzstatus']]"
      ]
    },
    {
      "cell_type": "markdown",
      "id": "041ed4c2-3587-41bb-b0bc-f0a5db5da343",
      "metadata": {
        "id": "041ed4c2-3587-41bb-b0bc-f0a5db5da343"
      },
      "source": [
        "### Transform adresses in geolocator\n",
        "create a loop for the dataframe\n",
        "take the adress send to geolocator and feed back the dataframe with geolocate\n",
        "add.column in csv\n",
        "df.coordinates=list.coordinates\n",
        "export column to list\n",
        "store the reults in new list\n"
      ]
    },
    {
      "cell_type": "markdown",
      "id": "54268b7f-be36-43f0-9a56-d9f6bda28293",
      "metadata": {
        "id": "54268b7f-be36-43f0-9a56-d9f6bda28293"
      },
      "source": [
        "I have some trouble here with installing geopandas- it seems invalid syntax. I checked online: https://www.geeksforgeeks.org/working-with-geospatial-data-in-python/\n",
        "\n",
        "creating a list of adresses\n",
        "transform them in loop as geolocator\n"
      ]
    },
    {
      "cell_type": "code",
      "execution_count": null,
      "id": "e58c0e69-3f3b-4b59-8de4-73909bc403fe",
      "metadata": {
        "id": "e58c0e69-3f3b-4b59-8de4-73909bc403fe",
        "outputId": "37aed450-6eed-4573-8437-12faad6aed05"
      },
      "outputs": [
        {
          "name": "stdout",
          "output_type": "stream",
          "text": [
            "Collecting geopandas\n",
            "  Using cached geopandas-0.10.2-py2.py3-none-any.whl (1.0 MB)\n",
            "Collecting fiona>=1.8\n",
            "  Using cached Fiona-1.8.20.tar.gz (1.3 MB)\n",
            "  Using cached Fiona-1.8.19.tar.gz (1.3 MB)\n",
            "  Using cached Fiona-1.8.18.tar.gz (1.3 MB)\n",
            "  Using cached Fiona-1.8.17.tar.gz (1.3 MB)\n",
            "  Using cached Fiona-1.8.16.tar.gz (1.3 MB)\n",
            "  Using cached Fiona-1.8.15.tar.gz (1.3 MB)\n",
            "  Using cached Fiona-1.8.14.tar.gz (1.3 MB)\n",
            "  Using cached Fiona-1.8.13.post1.tar.gz (1.2 MB)\n",
            "  Using cached Fiona-1.8.13.tar.gz (1.2 MB)\n",
            "  Using cached Fiona-1.8.12.tar.gz (1.2 MB)\n",
            "  Using cached Fiona-1.8.11.tar.gz (1.2 MB)\n",
            "  Using cached Fiona-1.8.10.tar.gz (1.2 MB)\n",
            "  Using cached Fiona-1.8.9.post2.tar.gz (1.2 MB)\n",
            "  Using cached Fiona-1.8.9.post1.tar.gz (1.2 MB)\n",
            "  Using cached Fiona-1.8.9.tar.gz (1.2 MB)\n",
            "  Using cached Fiona-1.8.8.tar.gz (1.7 MB)\n",
            "  Using cached Fiona-1.8.7.tar.gz (1.7 MB)\n",
            "  Using cached Fiona-1.8.6.tar.gz (1.7 MB)\n",
            "  Using cached Fiona-1.8.5.tar.gz (1.7 MB)\n",
            "  Using cached Fiona-1.8.4.tar.gz (1.1 MB)\n",
            "  Using cached Fiona-1.8.3.tar.gz (1.1 MB)\n",
            "  Using cached Fiona-1.8.2.tar.gz (1.2 MB)\n",
            "  Using cached Fiona-1.8.1.tar.gz (1.1 MB)\n",
            "  Using cached Fiona-1.8.0.tar.gz (1.4 MB)\n",
            "Collecting geopandas\n",
            "  Using cached geopandas-0.10.1-py2.py3-none-any.whl (1.0 MB)\n",
            "  Using cached geopandas-0.10.0-py2.py3-none-any.whl (1.0 MB)\n",
            "  Using cached geopandas-0.9.0-py2.py3-none-any.whl (994 kB)\n",
            "Requirement already satisfied: pandas>=0.24.0 in c:\\users\\anna maria borowska\\anaconda3\\lib\\site-packages (from geopandas) (1.3.4)\n",
            "  Using cached geopandas-0.8.2-py2.py3-none-any.whl (962 kB)\n",
            "Requirement already satisfied: pyproj>=2.2.0 in c:\\users\\anna maria borowska\\anaconda3\\lib\\site-packages (from geopandas) (3.3.0)\n",
            "Collecting fiona\n",
            "  Using cached Fiona-1.7.13.tar.gz (731 kB)\n",
            "Requirement already satisfied: shapely in c:\\users\\anna maria borowska\\anaconda3\\lib\\site-packages (from geopandas) (1.8.0)\n",
            "Requirement already satisfied: pytz>=2017.3 in c:\\users\\anna maria borowska\\anaconda3\\lib\\site-packages (from pandas>=0.24.0->geopandas) (2021.3)\n",
            "Requirement already satisfied: numpy>=1.17.3 in c:\\users\\anna maria borowska\\anaconda3\\lib\\site-packages (from pandas>=0.24.0->geopandas) (1.20.3)\n",
            "Requirement already satisfied: python-dateutil>=2.7.3 in c:\\users\\anna maria borowska\\anaconda3\\lib\\site-packages (from pandas>=0.24.0->geopandas) (2.8.2)\n",
            "Requirement already satisfied: certifi in c:\\users\\anna maria borowska\\anaconda3\\lib\\site-packages (from pyproj>=2.2.0->geopandas) (2021.10.8)\n",
            "Requirement already satisfied: six>=1.5 in c:\\users\\anna maria borowska\\anaconda3\\lib\\site-packages (from python-dateutil>=2.7.3->pandas>=0.24.0->geopandas) (1.16.0)\n",
            "Requirement already satisfied: cligj>=0.4 in c:\\users\\anna maria borowska\\anaconda3\\lib\\site-packages (from fiona->geopandas) (0.7.2)\n",
            "Requirement already satisfied: click-plugins in c:\\users\\anna maria borowska\\anaconda3\\lib\\site-packages (from fiona->geopandas) (1.1.1)\n",
            "Requirement already satisfied: munch in c:\\users\\anna maria borowska\\anaconda3\\lib\\site-packages (from fiona->geopandas) (2.5.0)\n",
            "Requirement already satisfied: click>=4.0 in c:\\users\\anna maria borowska\\anaconda3\\lib\\site-packages (from cligj>=0.4->fiona->geopandas) (8.0.3)\n",
            "Requirement already satisfied: colorama in c:\\users\\anna maria borowska\\anaconda3\\lib\\site-packages (from click>=4.0->cligj>=0.4->fiona->geopandas) (0.4.4)\n",
            "Building wheels for collected packages: fiona\n",
            "  Building wheel for fiona (setup.py): started\n",
            "  Building wheel for fiona (setup.py): finished with status 'error'\n",
            "  Running setup.py clean for fiona\n",
            "Failed to build fiona\n",
            "Installing collected packages: fiona, geopandas\n",
            "    Running setup.py install for fiona: started\n",
            "    Running setup.py install for fiona: finished with status 'error'\n",
            "Note: you may need to restart the kernel to use updated packages.\n"
          ]
        },
        {
          "name": "stderr",
          "output_type": "stream",
          "text": [
            "    ERROR: Command errored out with exit status 1:\n",
            "     command: 'C:\\Users\\Anna Maria Borowska\\anaconda3\\python.exe' -c 'import io, os, sys, setuptools, tokenize; sys.argv[0] = '\"'\"'C:\\\\Users\\\\Anna Maria Borowska\\\\AppData\\\\Local\\\\Temp\\\\pip-install-57nuk48q\\\\fiona_941da3858dc240dfbab8ef7535cdbe2f\\\\setup.py'\"'\"'; __file__='\"'\"'C:\\\\Users\\\\Anna Maria Borowska\\\\AppData\\\\Local\\\\Temp\\\\pip-install-57nuk48q\\\\fiona_941da3858dc240dfbab8ef7535cdbe2f\\\\setup.py'\"'\"';f = getattr(tokenize, '\"'\"'open'\"'\"', open)(__file__) if os.path.exists(__file__) else io.StringIO('\"'\"'from setuptools import setup; setup()'\"'\"');code = f.read().replace('\"'\"'\\r\\n'\"'\"', '\"'\"'\\n'\"'\"');f.close();exec(compile(code, __file__, '\"'\"'exec'\"'\"'))' egg_info --egg-base 'C:\\Users\\Anna Maria Borowska\\AppData\\Local\\Temp\\pip-pip-egg-info-_h846aln'\n",
            "         cwd: C:\\Users\\Anna Maria Borowska\\AppData\\Local\\Temp\\pip-install-57nuk48q\\fiona_941da3858dc240dfbab8ef7535cdbe2f\\\n",
            "    Complete output (1 lines):\n",
            "    A GDAL API version must be specified. Provide a path to gdal-config using a GDAL_CONFIG environment variable or use a GDAL_VERSION environment variable.\n",
            "    ----------------------------------------\n",
            "WARNING: Discarding https://files.pythonhosted.org/packages/ec/f7/093890341a7e8fbfcdfa04caf4dfb588ebab32c13ceaa6a3819da79ea106/Fiona-1.8.20.tar.gz#sha256=a70502d2857b82f749c09cb0dea3726787747933a2a1599b5ab787d74e3c143b (from https://pypi.org/simple/fiona/). Command errored out with exit status 1: python setup.py egg_info Check the logs for full command output.\n",
            "    ERROR: Command errored out with exit status 1:\n",
            "     command: 'C:\\Users\\Anna Maria Borowska\\anaconda3\\python.exe' -c 'import io, os, sys, setuptools, tokenize; sys.argv[0] = '\"'\"'C:\\\\Users\\\\Anna Maria Borowska\\\\AppData\\\\Local\\\\Temp\\\\pip-install-57nuk48q\\\\fiona_f5be744233604f2ab7848ff6582a8487\\\\setup.py'\"'\"'; __file__='\"'\"'C:\\\\Users\\\\Anna Maria Borowska\\\\AppData\\\\Local\\\\Temp\\\\pip-install-57nuk48q\\\\fiona_f5be744233604f2ab7848ff6582a8487\\\\setup.py'\"'\"';f = getattr(tokenize, '\"'\"'open'\"'\"', open)(__file__) if os.path.exists(__file__) else io.StringIO('\"'\"'from setuptools import setup; setup()'\"'\"');code = f.read().replace('\"'\"'\\r\\n'\"'\"', '\"'\"'\\n'\"'\"');f.close();exec(compile(code, __file__, '\"'\"'exec'\"'\"'))' egg_info --egg-base 'C:\\Users\\Anna Maria Borowska\\AppData\\Local\\Temp\\pip-pip-egg-info-7zks7g5g'\n",
            "         cwd: C:\\Users\\Anna Maria Borowska\\AppData\\Local\\Temp\\pip-install-57nuk48q\\fiona_f5be744233604f2ab7848ff6582a8487\\\n",
            "    Complete output (1 lines):\n",
            "    A GDAL API version must be specified. Provide a path to gdal-config using a GDAL_CONFIG environment variable or use a GDAL_VERSION environment variable.\n",
            "    ----------------------------------------\n",
            "WARNING: Discarding https://files.pythonhosted.org/packages/a0/d9/6042aeb073d11341f7726de0586ff71c13117c34959dcf07bd4ee6d4b93e/Fiona-1.8.19.tar.gz#sha256=b9059e0b29c2e9e6b817e53f941e77e1aca7075f986005d38db307067b60458f (from https://pypi.org/simple/fiona/). Command errored out with exit status 1: python setup.py egg_info Check the logs for full command output.\n",
            "    ERROR: Command errored out with exit status 1:\n",
            "     command: 'C:\\Users\\Anna Maria Borowska\\anaconda3\\python.exe' -c 'import io, os, sys, setuptools, tokenize; sys.argv[0] = '\"'\"'C:\\\\Users\\\\Anna Maria Borowska\\\\AppData\\\\Local\\\\Temp\\\\pip-install-57nuk48q\\\\fiona_54292a5615584baaae9fdc4e00de1d6f\\\\setup.py'\"'\"'; __file__='\"'\"'C:\\\\Users\\\\Anna Maria Borowska\\\\AppData\\\\Local\\\\Temp\\\\pip-install-57nuk48q\\\\fiona_54292a5615584baaae9fdc4e00de1d6f\\\\setup.py'\"'\"';f = getattr(tokenize, '\"'\"'open'\"'\"', open)(__file__) if os.path.exists(__file__) else io.StringIO('\"'\"'from setuptools import setup; setup()'\"'\"');code = f.read().replace('\"'\"'\\r\\n'\"'\"', '\"'\"'\\n'\"'\"');f.close();exec(compile(code, __file__, '\"'\"'exec'\"'\"'))' egg_info --egg-base 'C:\\Users\\Anna Maria Borowska\\AppData\\Local\\Temp\\pip-pip-egg-info-kxndi9ng'\n",
            "         cwd: C:\\Users\\Anna Maria Borowska\\AppData\\Local\\Temp\\pip-install-57nuk48q\\fiona_54292a5615584baaae9fdc4e00de1d6f\\\n",
            "    Complete output (1 lines):\n",
            "    A GDAL API version must be specified. Provide a path to gdal-config using a GDAL_CONFIG environment variable or use a GDAL_VERSION environment variable.\n",
            "    ----------------------------------------\n",
            "WARNING: Discarding https://files.pythonhosted.org/packages/9f/e8/401cdaa58d862a25c4b3365acf7d2bd7ac77191e3dc9acdcdac0eff20ff0/Fiona-1.8.18.tar.gz#sha256=b732ece0ff8886a29c439723a3e1fc382718804bb057519d537a81308854967a (from https://pypi.org/simple/fiona/). Command errored out with exit status 1: python setup.py egg_info Check the logs for full command output.\n",
            "    ERROR: Command errored out with exit status 1:\n",
            "     command: 'C:\\Users\\Anna Maria Borowska\\anaconda3\\python.exe' -c 'import io, os, sys, setuptools, tokenize; sys.argv[0] = '\"'\"'C:\\\\Users\\\\Anna Maria Borowska\\\\AppData\\\\Local\\\\Temp\\\\pip-install-57nuk48q\\\\fiona_251595e4adbc449c986527008fa6664b\\\\setup.py'\"'\"'; __file__='\"'\"'C:\\\\Users\\\\Anna Maria Borowska\\\\AppData\\\\Local\\\\Temp\\\\pip-install-57nuk48q\\\\fiona_251595e4adbc449c986527008fa6664b\\\\setup.py'\"'\"';f = getattr(tokenize, '\"'\"'open'\"'\"', open)(__file__) if os.path.exists(__file__) else io.StringIO('\"'\"'from setuptools import setup; setup()'\"'\"');code = f.read().replace('\"'\"'\\r\\n'\"'\"', '\"'\"'\\n'\"'\"');f.close();exec(compile(code, __file__, '\"'\"'exec'\"'\"'))' egg_info --egg-base 'C:\\Users\\Anna Maria Borowska\\AppData\\Local\\Temp\\pip-pip-egg-info-qhhjznz_'\n",
            "         cwd: C:\\Users\\Anna Maria Borowska\\AppData\\Local\\Temp\\pip-install-57nuk48q\\fiona_251595e4adbc449c986527008fa6664b\\\n",
            "    Complete output (1 lines):\n",
            "    A GDAL API version must be specified. Provide a path to gdal-config using a GDAL_CONFIG environment variable or use a GDAL_VERSION environment variable.\n",
            "    ----------------------------------------\n",
            "WARNING: Discarding https://files.pythonhosted.org/packages/88/62/69347ba2c41b526e1953c4cb66d51170b2869808863c03af202ba0121670/Fiona-1.8.17.tar.gz#sha256=716201c21246587f374785bec6d6a20a984fe1f6c2b0e83bf15127eb8f724d0c (from https://pypi.org/simple/fiona/). Command errored out with exit status 1: python setup.py egg_info Check the logs for full command output.\n",
            "    ERROR: Command errored out with exit status 1:\n",
            "     command: 'C:\\Users\\Anna Maria Borowska\\anaconda3\\python.exe' -c 'import io, os, sys, setuptools, tokenize; sys.argv[0] = '\"'\"'C:\\\\Users\\\\Anna Maria Borowska\\\\AppData\\\\Local\\\\Temp\\\\pip-install-57nuk48q\\\\fiona_b88f37fb15fd4510bd657d094e715b34\\\\setup.py'\"'\"'; __file__='\"'\"'C:\\\\Users\\\\Anna Maria Borowska\\\\AppData\\\\Local\\\\Temp\\\\pip-install-57nuk48q\\\\fiona_b88f37fb15fd4510bd657d094e715b34\\\\setup.py'\"'\"';f = getattr(tokenize, '\"'\"'open'\"'\"', open)(__file__) if os.path.exists(__file__) else io.StringIO('\"'\"'from setuptools import setup; setup()'\"'\"');code = f.read().replace('\"'\"'\\r\\n'\"'\"', '\"'\"'\\n'\"'\"');f.close();exec(compile(code, __file__, '\"'\"'exec'\"'\"'))' egg_info --egg-base 'C:\\Users\\Anna Maria Borowska\\AppData\\Local\\Temp\\pip-pip-egg-info-juxsput8'\n",
            "         cwd: C:\\Users\\Anna Maria Borowska\\AppData\\Local\\Temp\\pip-install-57nuk48q\\fiona_b88f37fb15fd4510bd657d094e715b34\\\n",
            "    Complete output (1 lines):\n",
            "    A GDAL API version must be specified. Provide a path to gdal-config using a GDAL_CONFIG environment variable or use a GDAL_VERSION environment variable.\n",
            "    ----------------------------------------\n",
            "WARNING: Discarding https://files.pythonhosted.org/packages/1e/60/dfc6115a11338d8aa96cacd8c60635223d9c97d61d556c90acc5dfd663fa/Fiona-1.8.16.tar.gz#sha256=fd6dfb65959becc916e9f6928618bfd59c16cdbc413ece0fbac61489cd11255f (from https://pypi.org/simple/fiona/). Command errored out with exit status 1: python setup.py egg_info Check the logs for full command output.\n",
            "    ERROR: Command errored out with exit status 1:\n",
            "     command: 'C:\\Users\\Anna Maria Borowska\\anaconda3\\python.exe' -c 'import io, os, sys, setuptools, tokenize; sys.argv[0] = '\"'\"'C:\\\\Users\\\\Anna Maria Borowska\\\\AppData\\\\Local\\\\Temp\\\\pip-install-57nuk48q\\\\fiona_cd1efefd82684da6907059303c25255c\\\\setup.py'\"'\"'; __file__='\"'\"'C:\\\\Users\\\\Anna Maria Borowska\\\\AppData\\\\Local\\\\Temp\\\\pip-install-57nuk48q\\\\fiona_cd1efefd82684da6907059303c25255c\\\\setup.py'\"'\"';f = getattr(tokenize, '\"'\"'open'\"'\"', open)(__file__) if os.path.exists(__file__) else io.StringIO('\"'\"'from setuptools import setup; setup()'\"'\"');code = f.read().replace('\"'\"'\\r\\n'\"'\"', '\"'\"'\\n'\"'\"');f.close();exec(compile(code, __file__, '\"'\"'exec'\"'\"'))' egg_info --egg-base 'C:\\Users\\Anna Maria Borowska\\AppData\\Local\\Temp\\pip-pip-egg-info-vxk4jpfc'\n",
            "         cwd: C:\\Users\\Anna Maria Borowska\\AppData\\Local\\Temp\\pip-install-57nuk48q\\fiona_cd1efefd82684da6907059303c25255c\\\n",
            "    Complete output (1 lines):\n",
            "    A GDAL API version must be specified. Provide a path to gdal-config using a GDAL_CONFIG environment variable or use a GDAL_VERSION environment variable.\n",
            "    ----------------------------------------\n",
            "WARNING: Discarding https://files.pythonhosted.org/packages/55/2f/17450ec2c8fcc720a8a3e4d9a383499508475c7cfb90f7eca9fb585ac598/Fiona-1.8.15.tar.gz#sha256=3b1c9b5c834fae2fe947cfaea176db890bc6750d1a6ba9f54d969c19ffcd191e (from https://pypi.org/simple/fiona/). Command errored out with exit status 1: python setup.py egg_info Check the logs for full command output.\n",
            "    ERROR: Command errored out with exit status 1:\n",
            "     command: 'C:\\Users\\Anna Maria Borowska\\anaconda3\\python.exe' -c 'import io, os, sys, setuptools, tokenize; sys.argv[0] = '\"'\"'C:\\\\Users\\\\Anna Maria Borowska\\\\AppData\\\\Local\\\\Temp\\\\pip-install-57nuk48q\\\\fiona_42d8524e08c448bd9b4e96a7f0c168b8\\\\setup.py'\"'\"'; __file__='\"'\"'C:\\\\Users\\\\Anna Maria Borowska\\\\AppData\\\\Local\\\\Temp\\\\pip-install-57nuk48q\\\\fiona_42d8524e08c448bd9b4e96a7f0c168b8\\\\setup.py'\"'\"';f = getattr(tokenize, '\"'\"'open'\"'\"', open)(__file__) if os.path.exists(__file__) else io.StringIO('\"'\"'from setuptools import setup; setup()'\"'\"');code = f.read().replace('\"'\"'\\r\\n'\"'\"', '\"'\"'\\n'\"'\"');f.close();exec(compile(code, __file__, '\"'\"'exec'\"'\"'))' egg_info --egg-base 'C:\\Users\\Anna Maria Borowska\\AppData\\Local\\Temp\\pip-pip-egg-info-0uqa20q9'\n",
            "         cwd: C:\\Users\\Anna Maria Borowska\\AppData\\Local\\Temp\\pip-install-57nuk48q\\fiona_42d8524e08c448bd9b4e96a7f0c168b8\\\n",
            "    Complete output (1 lines):\n",
            "    A GDAL API version must be specified. Provide a path to gdal-config using a GDAL_CONFIG environment variable or use a GDAL_VERSION environment variable.\n",
            "    ----------------------------------------\n",
            "WARNING: Discarding https://files.pythonhosted.org/packages/5c/fd/5ec54f2d9b3d5dd23dd443fad5630d6b872e2664814c68b856c47e0d65af/Fiona-1.8.14.tar.gz#sha256=6eac038206c89d2cf5f99ea38b81cc228dc21eac5f47870a9a32d453b0007f4d (from https://pypi.org/simple/fiona/). Command errored out with exit status 1: python setup.py egg_info Check the logs for full command output.\n",
            "    ERROR: Command errored out with exit status 1:\n",
            "     command: 'C:\\Users\\Anna Maria Borowska\\anaconda3\\python.exe' -c 'import io, os, sys, setuptools, tokenize; sys.argv[0] = '\"'\"'C:\\\\Users\\\\Anna Maria Borowska\\\\AppData\\\\Local\\\\Temp\\\\pip-install-57nuk48q\\\\fiona_828ac709c79e4092abe7bef860a6c9cd\\\\setup.py'\"'\"'; __file__='\"'\"'C:\\\\Users\\\\Anna Maria Borowska\\\\AppData\\\\Local\\\\Temp\\\\pip-install-57nuk48q\\\\fiona_828ac709c79e4092abe7bef860a6c9cd\\\\setup.py'\"'\"';f = getattr(tokenize, '\"'\"'open'\"'\"', open)(__file__) if os.path.exists(__file__) else io.StringIO('\"'\"'from setuptools import setup; setup()'\"'\"');code = f.read().replace('\"'\"'\\r\\n'\"'\"', '\"'\"'\\n'\"'\"');f.close();exec(compile(code, __file__, '\"'\"'exec'\"'\"'))' egg_info --egg-base 'C:\\Users\\Anna Maria Borowska\\AppData\\Local\\Temp\\pip-pip-egg-info-zjyzu7b9'\n",
            "         cwd: C:\\Users\\Anna Maria Borowska\\AppData\\Local\\Temp\\pip-install-57nuk48q\\fiona_828ac709c79e4092abe7bef860a6c9cd\\\n",
            "    Complete output (1 lines):\n",
            "    A GDAL API version must be specified. Provide a path to gdal-config using a GDAL_CONFIG environment variable or use a GDAL_VERSION environment variable.\n",
            "    ----------------------------------------\n",
            "WARNING: Discarding https://files.pythonhosted.org/packages/6d/42/f4a7cac53b28fa70e9a93d0e89a24d33e14826dad6644b699362ad84dde0/Fiona-1.8.13.post1.tar.gz#sha256=1a432bf9fd56f089256c010da009c90d4a795c531a848132c965052185336600 (from https://pypi.org/simple/fiona/). Command errored out with exit status 1: python setup.py egg_info Check the logs for full command output.\n",
            "    ERROR: Command errored out with exit status 1:\n",
            "     command: 'C:\\Users\\Anna Maria Borowska\\anaconda3\\python.exe' -c 'import io, os, sys, setuptools, tokenize; sys.argv[0] = '\"'\"'C:\\\\Users\\\\Anna Maria Borowska\\\\AppData\\\\Local\\\\Temp\\\\pip-install-57nuk48q\\\\fiona_d54a059775594ffd9c88ecced568e644\\\\setup.py'\"'\"'; __file__='\"'\"'C:\\\\Users\\\\Anna Maria Borowska\\\\AppData\\\\Local\\\\Temp\\\\pip-install-57nuk48q\\\\fiona_d54a059775594ffd9c88ecced568e644\\\\setup.py'\"'\"';f = getattr(tokenize, '\"'\"'open'\"'\"', open)(__file__) if os.path.exists(__file__) else io.StringIO('\"'\"'from setuptools import setup; setup()'\"'\"');code = f.read().replace('\"'\"'\\r\\n'\"'\"', '\"'\"'\\n'\"'\"');f.close();exec(compile(code, __file__, '\"'\"'exec'\"'\"'))' egg_info --egg-base 'C:\\Users\\Anna Maria Borowska\\AppData\\Local\\Temp\\pip-pip-egg-info-s_kyyz36'\n",
            "         cwd: C:\\Users\\Anna Maria Borowska\\AppData\\Local\\Temp\\pip-install-57nuk48q\\fiona_d54a059775594ffd9c88ecced568e644\\\n",
            "    Complete output (1 lines):\n",
            "    A GDAL API version must be specified. Provide a path to gdal-config using a GDAL_CONFIG environment variable or use a GDAL_VERSION environment variable.\n",
            "    ----------------------------------------\n",
            "WARNING: Discarding https://files.pythonhosted.org/packages/be/04/31d0a6f03943b1684f32c9b861be40c1fd282468fa6bd54ddf4a774e6b0f/Fiona-1.8.13.tar.gz#sha256=5ec34898c8b983a723fb4e949dd3e0ed7e691c303e51f6bfd61e52ac9ac813ae (from https://pypi.org/simple/fiona/). Command errored out with exit status 1: python setup.py egg_info Check the logs for full command output.\n",
            "    ERROR: Command errored out with exit status 1:\n",
            "     command: 'C:\\Users\\Anna Maria Borowska\\anaconda3\\python.exe' -c 'import io, os, sys, setuptools, tokenize; sys.argv[0] = '\"'\"'C:\\\\Users\\\\Anna Maria Borowska\\\\AppData\\\\Local\\\\Temp\\\\pip-install-57nuk48q\\\\fiona_e9272c6c3fa148ff96bf3bf850e8de5f\\\\setup.py'\"'\"'; __file__='\"'\"'C:\\\\Users\\\\Anna Maria Borowska\\\\AppData\\\\Local\\\\Temp\\\\pip-install-57nuk48q\\\\fiona_e9272c6c3fa148ff96bf3bf850e8de5f\\\\setup.py'\"'\"';f = getattr(tokenize, '\"'\"'open'\"'\"', open)(__file__) if os.path.exists(__file__) else io.StringIO('\"'\"'from setuptools import setup; setup()'\"'\"');code = f.read().replace('\"'\"'\\r\\n'\"'\"', '\"'\"'\\n'\"'\"');f.close();exec(compile(code, __file__, '\"'\"'exec'\"'\"'))' egg_info --egg-base 'C:\\Users\\Anna Maria Borowska\\AppData\\Local\\Temp\\pip-pip-egg-info-zl9sesoq'\n",
            "         cwd: C:\\Users\\Anna Maria Borowska\\AppData\\Local\\Temp\\pip-install-57nuk48q\\fiona_e9272c6c3fa148ff96bf3bf850e8de5f\\\n",
            "    Complete output (1 lines):\n",
            "    A GDAL API version must be specified. Provide a path to gdal-config using a GDAL_CONFIG environment variable or use a GDAL_VERSION environment variable.\n",
            "    ----------------------------------------\n",
            "WARNING: Discarding https://files.pythonhosted.org/packages/97/d8/feab39987296437fbdc3029fb39752a14355d217d73b93471010b8dd63a3/Fiona-1.8.12.tar.gz#sha256=c9266ddf6ae2a64fcea20014ddf27f800ac07584f2fdb09c2a02f3b3a52e371c (from https://pypi.org/simple/fiona/). Command errored out with exit status 1: python setup.py egg_info Check the logs for full command output.\n",
            "    ERROR: Command errored out with exit status 1:\n",
            "     command: 'C:\\Users\\Anna Maria Borowska\\anaconda3\\python.exe' -c 'import io, os, sys, setuptools, tokenize; sys.argv[0] = '\"'\"'C:\\\\Users\\\\Anna Maria Borowska\\\\AppData\\\\Local\\\\Temp\\\\pip-install-57nuk48q\\\\fiona_2c7d6bbd5a2c44dcb813951d9babbc0a\\\\setup.py'\"'\"'; __file__='\"'\"'C:\\\\Users\\\\Anna Maria Borowska\\\\AppData\\\\Local\\\\Temp\\\\pip-install-57nuk48q\\\\fiona_2c7d6bbd5a2c44dcb813951d9babbc0a\\\\setup.py'\"'\"';f = getattr(tokenize, '\"'\"'open'\"'\"', open)(__file__) if os.path.exists(__file__) else io.StringIO('\"'\"'from setuptools import setup; setup()'\"'\"');code = f.read().replace('\"'\"'\\r\\n'\"'\"', '\"'\"'\\n'\"'\"');f.close();exec(compile(code, __file__, '\"'\"'exec'\"'\"'))' egg_info --egg-base 'C:\\Users\\Anna Maria Borowska\\AppData\\Local\\Temp\\pip-pip-egg-info-e_62jmmp'\n",
            "         cwd: C:\\Users\\Anna Maria Borowska\\AppData\\Local\\Temp\\pip-install-57nuk48q\\fiona_2c7d6bbd5a2c44dcb813951d9babbc0a\\\n",
            "    Complete output (1 lines):\n",
            "    A GDAL API version must be specified. Provide a path to gdal-config using a GDAL_CONFIG environment variable or use a GDAL_VERSION environment variable.\n",
            "    ----------------------------------------\n",
            "WARNING: Discarding https://files.pythonhosted.org/packages/9d/f4/0a0ddc6174c4a93679b5f1dd3535e7ef8989828e6d5f86112de681f8c87b/Fiona-1.8.11.tar.gz#sha256=1e7ca9e051f5bffa1c43c70d573da9ca223fc076b84fa73380614fc02b9eb7f6 (from https://pypi.org/simple/fiona/). Command errored out with exit status 1: python setup.py egg_info Check the logs for full command output.\n",
            "    ERROR: Command errored out with exit status 1:\n",
            "     command: 'C:\\Users\\Anna Maria Borowska\\anaconda3\\python.exe' -c 'import io, os, sys, setuptools, tokenize; sys.argv[0] = '\"'\"'C:\\\\Users\\\\Anna Maria Borowska\\\\AppData\\\\Local\\\\Temp\\\\pip-install-57nuk48q\\\\fiona_0535c5e08f7c4a8fb37e5834b4c4bd4a\\\\setup.py'\"'\"'; __file__='\"'\"'C:\\\\Users\\\\Anna Maria Borowska\\\\AppData\\\\Local\\\\Temp\\\\pip-install-57nuk48q\\\\fiona_0535c5e08f7c4a8fb37e5834b4c4bd4a\\\\setup.py'\"'\"';f = getattr(tokenize, '\"'\"'open'\"'\"', open)(__file__) if os.path.exists(__file__) else io.StringIO('\"'\"'from setuptools import setup; setup()'\"'\"');code = f.read().replace('\"'\"'\\r\\n'\"'\"', '\"'\"'\\n'\"'\"');f.close();exec(compile(code, __file__, '\"'\"'exec'\"'\"'))' egg_info --egg-base 'C:\\Users\\Anna Maria Borowska\\AppData\\Local\\Temp\\pip-pip-egg-info-fdtpb8fn'\n",
            "         cwd: C:\\Users\\Anna Maria Borowska\\AppData\\Local\\Temp\\pip-install-57nuk48q\\fiona_0535c5e08f7c4a8fb37e5834b4c4bd4a\\\n",
            "    Complete output (1 lines):\n",
            "    A GDAL API version must be specified. Provide a path to gdal-config using a GDAL_CONFIG environment variable or use a GDAL_VERSION environment variable.\n",
            "    ----------------------------------------\n",
            "WARNING: Discarding https://files.pythonhosted.org/packages/13/73/f80b491ed8559326fab202a6d6333a3cd6e8be1e9d782bc6c0d03d476457/Fiona-1.8.10.tar.gz#sha256=ff562eb2f3960e21f8c7f050ddd7f47a763869ea14afc2234a40df72666c6a2c (from https://pypi.org/simple/fiona/). Command errored out with exit status 1: python setup.py egg_info Check the logs for full command output.\n",
            "    ERROR: Command errored out with exit status 1:\n",
            "     command: 'C:\\Users\\Anna Maria Borowska\\anaconda3\\python.exe' -c 'import io, os, sys, setuptools, tokenize; sys.argv[0] = '\"'\"'C:\\\\Users\\\\Anna Maria Borowska\\\\AppData\\\\Local\\\\Temp\\\\pip-install-57nuk48q\\\\fiona_f25529607e97431cb43ccdfe6d7cd233\\\\setup.py'\"'\"'; __file__='\"'\"'C:\\\\Users\\\\Anna Maria Borowska\\\\AppData\\\\Local\\\\Temp\\\\pip-install-57nuk48q\\\\fiona_f25529607e97431cb43ccdfe6d7cd233\\\\setup.py'\"'\"';f = getattr(tokenize, '\"'\"'open'\"'\"', open)(__file__) if os.path.exists(__file__) else io.StringIO('\"'\"'from setuptools import setup; setup()'\"'\"');code = f.read().replace('\"'\"'\\r\\n'\"'\"', '\"'\"'\\n'\"'\"');f.close();exec(compile(code, __file__, '\"'\"'exec'\"'\"'))' egg_info --egg-base 'C:\\Users\\Anna Maria Borowska\\AppData\\Local\\Temp\\pip-pip-egg-info-_o0xhday'\n",
            "         cwd: C:\\Users\\Anna Maria Borowska\\AppData\\Local\\Temp\\pip-install-57nuk48q\\fiona_f25529607e97431cb43ccdfe6d7cd233\\\n",
            "    Complete output (1 lines):\n",
            "    A GDAL API version must be specified. Provide a path to gdal-config using a GDAL_CONFIG environment variable or use a GDAL_VERSION environment variable.\n",
            "    ----------------------------------------\n",
            "WARNING: Discarding https://files.pythonhosted.org/packages/9b/52/45e75507660ce0e86176d0f59b659560f687e2c7e9ebf82a10e7dcd2d3b7/Fiona-1.8.9.post2.tar.gz#sha256=210fb038b579fab38f35ddbdd31b9725f4d5099b3edfd4b87c983e5d47b79983 (from https://pypi.org/simple/fiona/). Command errored out with exit status 1: python setup.py egg_info Check the logs for full command output.\n",
            "    ERROR: Command errored out with exit status 1:\n",
            "     command: 'C:\\Users\\Anna Maria Borowska\\anaconda3\\python.exe' -c 'import io, os, sys, setuptools, tokenize; sys.argv[0] = '\"'\"'C:\\\\Users\\\\Anna Maria Borowska\\\\AppData\\\\Local\\\\Temp\\\\pip-install-57nuk48q\\\\fiona_330c93014f22465eba3e9697e08a2148\\\\setup.py'\"'\"'; __file__='\"'\"'C:\\\\Users\\\\Anna Maria Borowska\\\\AppData\\\\Local\\\\Temp\\\\pip-install-57nuk48q\\\\fiona_330c93014f22465eba3e9697e08a2148\\\\setup.py'\"'\"';f = getattr(tokenize, '\"'\"'open'\"'\"', open)(__file__) if os.path.exists(__file__) else io.StringIO('\"'\"'from setuptools import setup; setup()'\"'\"');code = f.read().replace('\"'\"'\\r\\n'\"'\"', '\"'\"'\\n'\"'\"');f.close();exec(compile(code, __file__, '\"'\"'exec'\"'\"'))' egg_info --egg-base 'C:\\Users\\Anna Maria Borowska\\AppData\\Local\\Temp\\pip-pip-egg-info-fd55bihs'\n",
            "         cwd: C:\\Users\\Anna Maria Borowska\\AppData\\Local\\Temp\\pip-install-57nuk48q\\fiona_330c93014f22465eba3e9697e08a2148\\\n",
            "    Complete output (1 lines):\n",
            "    A GDAL API version must be specified. Provide a path to gdal-config using a GDAL_CONFIG environment variable or use a GDAL_VERSION environment variable.\n",
            "    ----------------------------------------\n",
            "WARNING: Discarding https://files.pythonhosted.org/packages/0e/a4/d9dd7399be809d3990f5000fb6ae43189ea26ae88be1bed3a4c9ddc1becc/Fiona-1.8.9.post1.tar.gz#sha256=d5e0ea0b8addffe9cba4cb59e2bd495b015230e7a1b1597974f5048211930199 (from https://pypi.org/simple/fiona/). Command errored out with exit status 1: python setup.py egg_info Check the logs for full command output.\n",
            "    ERROR: Command errored out with exit status 1:\n",
            "     command: 'C:\\Users\\Anna Maria Borowska\\anaconda3\\python.exe' -c 'import io, os, sys, setuptools, tokenize; sys.argv[0] = '\"'\"'C:\\\\Users\\\\Anna Maria Borowska\\\\AppData\\\\Local\\\\Temp\\\\pip-install-57nuk48q\\\\fiona_b4f9d47d810a44e0995ecf08f56313dd\\\\setup.py'\"'\"'; __file__='\"'\"'C:\\\\Users\\\\Anna Maria Borowska\\\\AppData\\\\Local\\\\Temp\\\\pip-install-57nuk48q\\\\fiona_b4f9d47d810a44e0995ecf08f56313dd\\\\setup.py'\"'\"';f = getattr(tokenize, '\"'\"'open'\"'\"', open)(__file__) if os.path.exists(__file__) else io.StringIO('\"'\"'from setuptools import setup; setup()'\"'\"');code = f.read().replace('\"'\"'\\r\\n'\"'\"', '\"'\"'\\n'\"'\"');f.close();exec(compile(code, __file__, '\"'\"'exec'\"'\"'))' egg_info --egg-base 'C:\\Users\\Anna Maria Borowska\\AppData\\Local\\Temp\\pip-pip-egg-info-efk6a5_g'\n",
            "         cwd: C:\\Users\\Anna Maria Borowska\\AppData\\Local\\Temp\\pip-install-57nuk48q\\fiona_b4f9d47d810a44e0995ecf08f56313dd\\\n",
            "    Complete output (1 lines):\n",
            "    A GDAL API version must be specified. Provide a path to gdal-config using a GDAL_CONFIG environment variable or use a GDAL_VERSION environment variable.\n",
            "    ----------------------------------------\n",
            "WARNING: Discarding https://files.pythonhosted.org/packages/ad/92/dcbd8c54d697c22f299b5af63b6df3acfbd06c6d72e249614c05be99337c/Fiona-1.8.9.tar.gz#sha256=4dd6e2f5327c1174143c7c8594a75d373bc72f2c9a2a6daee312c3186a128add (from https://pypi.org/simple/fiona/). Command errored out with exit status 1: python setup.py egg_info Check the logs for full command output.\n",
            "    ERROR: Command errored out with exit status 1:\n",
            "     command: 'C:\\Users\\Anna Maria Borowska\\anaconda3\\python.exe' -c 'import io, os, sys, setuptools, tokenize; sys.argv[0] = '\"'\"'C:\\\\Users\\\\Anna Maria Borowska\\\\AppData\\\\Local\\\\Temp\\\\pip-install-57nuk48q\\\\fiona_0b7e6082d86d4ba4ae4e80c64cd8c86c\\\\setup.py'\"'\"'; __file__='\"'\"'C:\\\\Users\\\\Anna Maria Borowska\\\\AppData\\\\Local\\\\Temp\\\\pip-install-57nuk48q\\\\fiona_0b7e6082d86d4ba4ae4e80c64cd8c86c\\\\setup.py'\"'\"';f = getattr(tokenize, '\"'\"'open'\"'\"', open)(__file__) if os.path.exists(__file__) else io.StringIO('\"'\"'from setuptools import setup; setup()'\"'\"');code = f.read().replace('\"'\"'\\r\\n'\"'\"', '\"'\"'\\n'\"'\"');f.close();exec(compile(code, __file__, '\"'\"'exec'\"'\"'))' egg_info --egg-base 'C:\\Users\\Anna Maria Borowska\\AppData\\Local\\Temp\\pip-pip-egg-info-9qel1w60'\n",
            "         cwd: C:\\Users\\Anna Maria Borowska\\AppData\\Local\\Temp\\pip-install-57nuk48q\\fiona_0b7e6082d86d4ba4ae4e80c64cd8c86c\\\n",
            "    Complete output (1 lines):\n",
            "    A GDAL API version must be specified. Provide a path to gdal-config using a GDAL_CONFIG environment variable or use a GDAL_VERSION environment variable.\n",
            "    ----------------------------------------\n",
            "WARNING: Discarding https://files.pythonhosted.org/packages/94/7f/e288db1ad63d759d494c30caae34f865e0c6927588c490705e91b7134193/Fiona-1.8.8.tar.gz#sha256=711c3be73203b37812992089445a1e4e9d3d6b64e667389f7b15406e15a91e83 (from https://pypi.org/simple/fiona/). Command errored out with exit status 1: python setup.py egg_info Check the logs for full command output.\n",
            "    ERROR: Command errored out with exit status 1:\n",
            "     command: 'C:\\Users\\Anna Maria Borowska\\anaconda3\\python.exe' -c 'import io, os, sys, setuptools, tokenize; sys.argv[0] = '\"'\"'C:\\\\Users\\\\Anna Maria Borowska\\\\AppData\\\\Local\\\\Temp\\\\pip-install-57nuk48q\\\\fiona_d9671b022e2a4ac193ec7d5a6e6909c8\\\\setup.py'\"'\"'; __file__='\"'\"'C:\\\\Users\\\\Anna Maria Borowska\\\\AppData\\\\Local\\\\Temp\\\\pip-install-57nuk48q\\\\fiona_d9671b022e2a4ac193ec7d5a6e6909c8\\\\setup.py'\"'\"';f = getattr(tokenize, '\"'\"'open'\"'\"', open)(__file__) if os.path.exists(__file__) else io.StringIO('\"'\"'from setuptools import setup; setup()'\"'\"');code = f.read().replace('\"'\"'\\r\\n'\"'\"', '\"'\"'\\n'\"'\"');f.close();exec(compile(code, __file__, '\"'\"'exec'\"'\"'))' egg_info --egg-base 'C:\\Users\\Anna Maria Borowska\\AppData\\Local\\Temp\\pip-pip-egg-info-09jmtoa3'\n",
            "         cwd: C:\\Users\\Anna Maria Borowska\\AppData\\Local\\Temp\\pip-install-57nuk48q\\fiona_d9671b022e2a4ac193ec7d5a6e6909c8\\\n",
            "    Complete output (1 lines):\n",
            "    A GDAL API version must be specified. Provide a path to gdal-config using a GDAL_CONFIG environment variable or use a GDAL_VERSION environment variable.\n",
            "    ----------------------------------------\n",
            "WARNING: Discarding https://files.pythonhosted.org/packages/78/62/daafd070aebefa639df247705b97f13f7cfad43895581b5cae41bd886709/Fiona-1.8.7.tar.gz#sha256=a55a23615bad3e142d4e4cda97bb5de83c778a80049222e9dffae93c13b5cf93 (from https://pypi.org/simple/fiona/). Command errored out with exit status 1: python setup.py egg_info Check the logs for full command output.\n",
            "    ERROR: Command errored out with exit status 1:\n",
            "     command: 'C:\\Users\\Anna Maria Borowska\\anaconda3\\python.exe' -c 'import io, os, sys, setuptools, tokenize; sys.argv[0] = '\"'\"'C:\\\\Users\\\\Anna Maria Borowska\\\\AppData\\\\Local\\\\Temp\\\\pip-install-57nuk48q\\\\fiona_e14334cd70d34362a615038552fcf5fb\\\\setup.py'\"'\"'; __file__='\"'\"'C:\\\\Users\\\\Anna Maria Borowska\\\\AppData\\\\Local\\\\Temp\\\\pip-install-57nuk48q\\\\fiona_e14334cd70d34362a615038552fcf5fb\\\\setup.py'\"'\"';f = getattr(tokenize, '\"'\"'open'\"'\"', open)(__file__) if os.path.exists(__file__) else io.StringIO('\"'\"'from setuptools import setup; setup()'\"'\"');code = f.read().replace('\"'\"'\\r\\n'\"'\"', '\"'\"'\\n'\"'\"');f.close();exec(compile(code, __file__, '\"'\"'exec'\"'\"'))' egg_info --egg-base 'C:\\Users\\Anna Maria Borowska\\AppData\\Local\\Temp\\pip-pip-egg-info-xaeern44'\n",
            "         cwd: C:\\Users\\Anna Maria Borowska\\AppData\\Local\\Temp\\pip-install-57nuk48q\\fiona_e14334cd70d34362a615038552fcf5fb\\\n",
            "    Complete output (1 lines):\n",
            "    A GDAL API version must be specified. Provide a path to gdal-config using a GDAL_CONFIG environment variable or use a GDAL_VERSION environment variable.\n",
            "    ----------------------------------------\n",
            "WARNING: Discarding https://files.pythonhosted.org/packages/41/9d/63696e7b1de42aad294d4781199a408bec593d8fdb80a2b4a788c911a33b/Fiona-1.8.6.tar.gz#sha256=fa31dfe8855b9cd0b128b47a4df558f1b8eda90d2181bff1dd9854e5556efb3e (from https://pypi.org/simple/fiona/). Command errored out with exit status 1: python setup.py egg_info Check the logs for full command output.\n",
            "    ERROR: Command errored out with exit status 1:\n",
            "     command: 'C:\\Users\\Anna Maria Borowska\\anaconda3\\python.exe' -c 'import io, os, sys, setuptools, tokenize; sys.argv[0] = '\"'\"'C:\\\\Users\\\\Anna Maria Borowska\\\\AppData\\\\Local\\\\Temp\\\\pip-install-57nuk48q\\\\fiona_2e86d29af5af4894afdee9947f1091bf\\\\setup.py'\"'\"'; __file__='\"'\"'C:\\\\Users\\\\Anna Maria Borowska\\\\AppData\\\\Local\\\\Temp\\\\pip-install-57nuk48q\\\\fiona_2e86d29af5af4894afdee9947f1091bf\\\\setup.py'\"'\"';f = getattr(tokenize, '\"'\"'open'\"'\"', open)(__file__) if os.path.exists(__file__) else io.StringIO('\"'\"'from setuptools import setup; setup()'\"'\"');code = f.read().replace('\"'\"'\\r\\n'\"'\"', '\"'\"'\\n'\"'\"');f.close();exec(compile(code, __file__, '\"'\"'exec'\"'\"'))' egg_info --egg-base 'C:\\Users\\Anna Maria Borowska\\AppData\\Local\\Temp\\pip-pip-egg-info-ytni0vrp'\n",
            "         cwd: C:\\Users\\Anna Maria Borowska\\AppData\\Local\\Temp\\pip-install-57nuk48q\\fiona_2e86d29af5af4894afdee9947f1091bf\\\n",
            "    Complete output (1 lines):\n",
            "    A GDAL API version must be specified. Provide a path to gdal-config using a GDAL_CONFIG environment variable or use a GDAL_VERSION environment variable.\n",
            "    ----------------------------------------\n",
            "WARNING: Discarding https://files.pythonhosted.org/packages/7b/af/1c2c83c4a8363a4ce9fea817b1910b5e071bed012e18257faa2a0ab3cfe7/Fiona-1.8.5.tar.gz#sha256=4f5cc2d449edbbf693c83e24cdada72de7c41297383d16fcc92387eb445e9d35 (from https://pypi.org/simple/fiona/). Command errored out with exit status 1: python setup.py egg_info Check the logs for full command output.\n",
            "    ERROR: Command errored out with exit status 1:\n",
            "     command: 'C:\\Users\\Anna Maria Borowska\\anaconda3\\python.exe' -c 'import io, os, sys, setuptools, tokenize; sys.argv[0] = '\"'\"'C:\\\\Users\\\\Anna Maria Borowska\\\\AppData\\\\Local\\\\Temp\\\\pip-install-57nuk48q\\\\fiona_a4803ed625b94ddc8dd48fd7a2571145\\\\setup.py'\"'\"'; __file__='\"'\"'C:\\\\Users\\\\Anna Maria Borowska\\\\AppData\\\\Local\\\\Temp\\\\pip-install-57nuk48q\\\\fiona_a4803ed625b94ddc8dd48fd7a2571145\\\\setup.py'\"'\"';f = getattr(tokenize, '\"'\"'open'\"'\"', open)(__file__) if os.path.exists(__file__) else io.StringIO('\"'\"'from setuptools import setup; setup()'\"'\"');code = f.read().replace('\"'\"'\\r\\n'\"'\"', '\"'\"'\\n'\"'\"');f.close();exec(compile(code, __file__, '\"'\"'exec'\"'\"'))' egg_info --egg-base 'C:\\Users\\Anna Maria Borowska\\AppData\\Local\\Temp\\pip-pip-egg-info-1c77twjv'\n",
            "         cwd: C:\\Users\\Anna Maria Borowska\\AppData\\Local\\Temp\\pip-install-57nuk48q\\fiona_a4803ed625b94ddc8dd48fd7a2571145\\\n",
            "    Complete output (1 lines):\n",
            "    A GDAL API version must be specified. Provide a path to gdal-config using a GDAL_CONFIG environment variable or use a GDAL_VERSION environment variable.\n",
            "    ----------------------------------------\n",
            "WARNING: Discarding https://files.pythonhosted.org/packages/3a/16/84960540e9fce61d767fd2f0f1d95f4c63e99ab5d8fddc308e8b51b059b8/Fiona-1.8.4.tar.gz#sha256=aec9ab2e3513c9503ec123b1a8573bee55fc6a66e2ac07088c3376bf6738a424 (from https://pypi.org/simple/fiona/). Command errored out with exit status 1: python setup.py egg_info Check the logs for full command output.\n",
            "    ERROR: Command errored out with exit status 1:\n",
            "     command: 'C:\\Users\\Anna Maria Borowska\\anaconda3\\python.exe' -c 'import io, os, sys, setuptools, tokenize; sys.argv[0] = '\"'\"'C:\\\\Users\\\\Anna Maria Borowska\\\\AppData\\\\Local\\\\Temp\\\\pip-install-57nuk48q\\\\fiona_9844a5bdd25c45e0b2065418d7a680d8\\\\setup.py'\"'\"'; __file__='\"'\"'C:\\\\Users\\\\Anna Maria Borowska\\\\AppData\\\\Local\\\\Temp\\\\pip-install-57nuk48q\\\\fiona_9844a5bdd25c45e0b2065418d7a680d8\\\\setup.py'\"'\"';f = getattr(tokenize, '\"'\"'open'\"'\"', open)(__file__) if os.path.exists(__file__) else io.StringIO('\"'\"'from setuptools import setup; setup()'\"'\"');code = f.read().replace('\"'\"'\\r\\n'\"'\"', '\"'\"'\\n'\"'\"');f.close();exec(compile(code, __file__, '\"'\"'exec'\"'\"'))' egg_info --egg-base 'C:\\Users\\Anna Maria Borowska\\AppData\\Local\\Temp\\pip-pip-egg-info-d8rp58g8'\n",
            "         cwd: C:\\Users\\Anna Maria Borowska\\AppData\\Local\\Temp\\pip-install-57nuk48q\\fiona_9844a5bdd25c45e0b2065418d7a680d8\\\n",
            "    Complete output (1 lines):\n",
            "    A GDAL API version must be specified. Provide a path to gdal-config using a GDAL_CONFIG environment variable or use a GDAL_VERSION environment variable.\n",
            "    ----------------------------------------\n",
            "WARNING: Discarding https://files.pythonhosted.org/packages/46/d1/fcdb32513a03abfde0d97fd9782ce0f8cc0540fa6c6ce783e87b94064964/Fiona-1.8.3.tar.gz#sha256=3e831100a23c3b6cd32b98baf0c9e2119d909b44a5cf4533d3625f61dcf2d2b1 (from https://pypi.org/simple/fiona/). Command errored out with exit status 1: python setup.py egg_info Check the logs for full command output.\n",
            "    ERROR: Command errored out with exit status 1:\n",
            "     command: 'C:\\Users\\Anna Maria Borowska\\anaconda3\\python.exe' -c 'import io, os, sys, setuptools, tokenize; sys.argv[0] = '\"'\"'C:\\\\Users\\\\Anna Maria Borowska\\\\AppData\\\\Local\\\\Temp\\\\pip-install-57nuk48q\\\\fiona_6ffd50f087824dbb98757bb76b155158\\\\setup.py'\"'\"'; __file__='\"'\"'C:\\\\Users\\\\Anna Maria Borowska\\\\AppData\\\\Local\\\\Temp\\\\pip-install-57nuk48q\\\\fiona_6ffd50f087824dbb98757bb76b155158\\\\setup.py'\"'\"';f = getattr(tokenize, '\"'\"'open'\"'\"', open)(__file__) if os.path.exists(__file__) else io.StringIO('\"'\"'from setuptools import setup; setup()'\"'\"');code = f.read().replace('\"'\"'\\r\\n'\"'\"', '\"'\"'\\n'\"'\"');f.close();exec(compile(code, __file__, '\"'\"'exec'\"'\"'))' egg_info --egg-base 'C:\\Users\\Anna Maria Borowska\\AppData\\Local\\Temp\\pip-pip-egg-info-9vbx4c87'\n",
            "         cwd: C:\\Users\\Anna Maria Borowska\\AppData\\Local\\Temp\\pip-install-57nuk48q\\fiona_6ffd50f087824dbb98757bb76b155158\\\n",
            "    Complete output (1 lines):\n",
            "    A GDAL API version must be specified. Provide a path to gdal-config using a GDAL_CONFIG environment variable or use a GDAL_VERSION environment variable.\n",
            "    ----------------------------------------\n",
            "WARNING: Discarding https://files.pythonhosted.org/packages/25/50/0466d5d83e1859c5ca38351ee932d64cc5635f9d4dad522879e58f4b0018/Fiona-1.8.2.tar.gz#sha256=4c6419b7ac29136708029f6a44b4ccd458735a4d241016c7b1bab41685c08d8f (from https://pypi.org/simple/fiona/). Command errored out with exit status 1: python setup.py egg_info Check the logs for full command output.\n",
            "    ERROR: Command errored out with exit status 1:\n",
            "     command: 'C:\\Users\\Anna Maria Borowska\\anaconda3\\python.exe' -c 'import io, os, sys, setuptools, tokenize; sys.argv[0] = '\"'\"'C:\\\\Users\\\\Anna Maria Borowska\\\\AppData\\\\Local\\\\Temp\\\\pip-install-57nuk48q\\\\fiona_47859049615a4235a3222bd66801ec14\\\\setup.py'\"'\"'; __file__='\"'\"'C:\\\\Users\\\\Anna Maria Borowska\\\\AppData\\\\Local\\\\Temp\\\\pip-install-57nuk48q\\\\fiona_47859049615a4235a3222bd66801ec14\\\\setup.py'\"'\"';f = getattr(tokenize, '\"'\"'open'\"'\"', open)(__file__) if os.path.exists(__file__) else io.StringIO('\"'\"'from setuptools import setup; setup()'\"'\"');code = f.read().replace('\"'\"'\\r\\n'\"'\"', '\"'\"'\\n'\"'\"');f.close();exec(compile(code, __file__, '\"'\"'exec'\"'\"'))' egg_info --egg-base 'C:\\Users\\Anna Maria Borowska\\AppData\\Local\\Temp\\pip-pip-egg-info-_qbzaojm'\n",
            "         cwd: C:\\Users\\Anna Maria Borowska\\AppData\\Local\\Temp\\pip-install-57nuk48q\\fiona_47859049615a4235a3222bd66801ec14\\\n",
            "    Complete output (1 lines):\n",
            "    A GDAL API version must be specified. Provide a path to gdal-config using a GDAL_CONFIG environment variable or use a GDAL_VERSION environment variable.\n",
            "    ----------------------------------------\n",
            "WARNING: Discarding https://files.pythonhosted.org/packages/3e/5f/0c6704efeea2ff3fba7f54cc6ec38070157f21bc1cffa7bdfa7c9f6b8f7a/Fiona-1.8.1.tar.gz#sha256=4c34bb4c5cd788aaf14e5484c3b7de407b1a8a7c7b2d29bbb2e8b37931e83b8d (from https://pypi.org/simple/fiona/). Command errored out with exit status 1: python setup.py egg_info Check the logs for full command output.\n",
            "    ERROR: Command errored out with exit status 1:\n",
            "     command: 'C:\\Users\\Anna Maria Borowska\\anaconda3\\python.exe' -c 'import io, os, sys, setuptools, tokenize; sys.argv[0] = '\"'\"'C:\\\\Users\\\\Anna Maria Borowska\\\\AppData\\\\Local\\\\Temp\\\\pip-install-57nuk48q\\\\fiona_95d13e677b1f49d694447a267740b1e6\\\\setup.py'\"'\"'; __file__='\"'\"'C:\\\\Users\\\\Anna Maria Borowska\\\\AppData\\\\Local\\\\Temp\\\\pip-install-57nuk48q\\\\fiona_95d13e677b1f49d694447a267740b1e6\\\\setup.py'\"'\"';f = getattr(tokenize, '\"'\"'open'\"'\"', open)(__file__) if os.path.exists(__file__) else io.StringIO('\"'\"'from setuptools import setup; setup()'\"'\"');code = f.read().replace('\"'\"'\\r\\n'\"'\"', '\"'\"'\\n'\"'\"');f.close();exec(compile(code, __file__, '\"'\"'exec'\"'\"'))' egg_info --egg-base 'C:\\Users\\Anna Maria Borowska\\AppData\\Local\\Temp\\pip-pip-egg-info-0ursyyv9'\n",
            "         cwd: C:\\Users\\Anna Maria Borowska\\AppData\\Local\\Temp\\pip-install-57nuk48q\\fiona_95d13e677b1f49d694447a267740b1e6\\\n",
            "    Complete output (1 lines):\n",
            "    A GDAL API version must be specified. Provide a path to gdal-config using a GDAL_CONFIG environment variable or use a GDAL_VERSION environment variable.\n",
            "    ----------------------------------------\n",
            "WARNING: Discarding https://files.pythonhosted.org/packages/2a/bd/c1efc2680f338e5941121c776d6323af6b9698ac739e22ba523cee348a7f/Fiona-1.8.0.tar.gz#sha256=20141a9ece06daa7bb4333fba640c2fe39a49f8aca5492d1da8595d41e91844a (from https://pypi.org/simple/fiona/). Command errored out with exit status 1: python setup.py egg_info Check the logs for full command output.\n",
            "  ERROR: Command errored out with exit status 1:\n",
            "   command: 'C:\\Users\\Anna Maria Borowska\\anaconda3\\python.exe' -u -c 'import io, os, sys, setuptools, tokenize; sys.argv[0] = '\"'\"'C:\\\\Users\\\\Anna Maria Borowska\\\\AppData\\\\Local\\\\Temp\\\\pip-install-57nuk48q\\\\fiona_f6f65710529e437cadf7e8e9f9b820ae\\\\setup.py'\"'\"'; __file__='\"'\"'C:\\\\Users\\\\Anna Maria Borowska\\\\AppData\\\\Local\\\\Temp\\\\pip-install-57nuk48q\\\\fiona_f6f65710529e437cadf7e8e9f9b820ae\\\\setup.py'\"'\"';f = getattr(tokenize, '\"'\"'open'\"'\"', open)(__file__) if os.path.exists(__file__) else io.StringIO('\"'\"'from setuptools import setup; setup()'\"'\"');code = f.read().replace('\"'\"'\\r\\n'\"'\"', '\"'\"'\\n'\"'\"');f.close();exec(compile(code, __file__, '\"'\"'exec'\"'\"'))' bdist_wheel -d 'C:\\Users\\Anna Maria Borowska\\AppData\\Local\\Temp\\pip-wheel-v9tpmjlv'\n",
            "       cwd: C:\\Users\\Anna Maria Borowska\\AppData\\Local\\Temp\\pip-install-57nuk48q\\fiona_f6f65710529e437cadf7e8e9f9b820ae\\\n",
            "  Complete output (42 lines):\n",
            "  C:\\Users\\Anna Maria Borowska\\anaconda3\\lib\\distutils\\dist.py:274: UserWarning: Unknown distribution option: 'metadata_version'\n",
            "    warnings.warn(msg)\n",
            "  C:\\Users\\Anna Maria Borowska\\anaconda3\\lib\\distutils\\dist.py:274: UserWarning: Unknown distribution option: 'requires_python'\n",
            "    warnings.warn(msg)\n",
            "  C:\\Users\\Anna Maria Borowska\\anaconda3\\lib\\distutils\\dist.py:274: UserWarning: Unknown distribution option: 'requires_external'\n",
            "    warnings.warn(msg)\n",
            "  running bdist_wheel\n",
            "  running build\n",
            "  running build_py\n",
            "  creating build\n",
            "  creating build\\lib.win-amd64-3.9\n",
            "  creating build\\lib.win-amd64-3.9\\fiona\n",
            "  copying .\\fiona\\collection.py -> build\\lib.win-amd64-3.9\\fiona\n",
            "  copying .\\fiona\\compat.py -> build\\lib.win-amd64-3.9\\fiona\n",
            "  copying .\\fiona\\crs.py -> build\\lib.win-amd64-3.9\\fiona\n",
            "  copying .\\fiona\\drvsupport.py -> build\\lib.win-amd64-3.9\\fiona\n",
            "  copying .\\fiona\\errors.py -> build\\lib.win-amd64-3.9\\fiona\n",
            "  copying .\\fiona\\inspector.py -> build\\lib.win-amd64-3.9\\fiona\n",
            "  copying .\\fiona\\rfc3339.py -> build\\lib.win-amd64-3.9\\fiona\n",
            "  copying .\\fiona\\tool.py -> build\\lib.win-amd64-3.9\\fiona\n",
            "  copying .\\fiona\\transform.py -> build\\lib.win-amd64-3.9\\fiona\n",
            "  copying .\\fiona\\__init__.py -> build\\lib.win-amd64-3.9\\fiona\n",
            "  creating build\\lib.win-amd64-3.9\\fiona\\fio\n",
            "  copying .\\fiona\\fio\\bounds.py -> build\\lib.win-amd64-3.9\\fiona\\fio\n",
            "  copying .\\fiona\\fio\\calc.py -> build\\lib.win-amd64-3.9\\fiona\\fio\n",
            "  copying .\\fiona\\fio\\cat.py -> build\\lib.win-amd64-3.9\\fiona\\fio\n",
            "  copying .\\fiona\\fio\\collect.py -> build\\lib.win-amd64-3.9\\fiona\\fio\n",
            "  copying .\\fiona\\fio\\distrib.py -> build\\lib.win-amd64-3.9\\fiona\\fio\n",
            "  copying .\\fiona\\fio\\dump.py -> build\\lib.win-amd64-3.9\\fiona\\fio\n",
            "  copying .\\fiona\\fio\\env.py -> build\\lib.win-amd64-3.9\\fiona\\fio\n",
            "  copying .\\fiona\\fio\\filter.py -> build\\lib.win-amd64-3.9\\fiona\\fio\n",
            "  copying .\\fiona\\fio\\helpers.py -> build\\lib.win-amd64-3.9\\fiona\\fio\n",
            "  copying .\\fiona\\fio\\info.py -> build\\lib.win-amd64-3.9\\fiona\\fio\n",
            "  copying .\\fiona\\fio\\insp.py -> build\\lib.win-amd64-3.9\\fiona\\fio\n",
            "  copying .\\fiona\\fio\\load.py -> build\\lib.win-amd64-3.9\\fiona\\fio\n",
            "  copying .\\fiona\\fio\\ls.py -> build\\lib.win-amd64-3.9\\fiona\\fio\n",
            "  copying .\\fiona\\fio\\main.py -> build\\lib.win-amd64-3.9\\fiona\\fio\n",
            "  copying .\\fiona\\fio\\options.py -> build\\lib.win-amd64-3.9\\fiona\\fio\n",
            "  copying .\\fiona\\fio\\__init__.py -> build\\lib.win-amd64-3.9\\fiona\\fio\n",
            "  running build_ext\n",
            "  building 'fiona._transform' extension\n",
            "  error: Microsoft Visual C++ 14.0 or greater is required. Get it with \"Microsoft C++ Build Tools\": https://visualstudio.microsoft.com/visual-cpp-build-tools/\n",
            "  ----------------------------------------\n",
            "  ERROR: Failed building wheel for fiona\n",
            "    ERROR: Command errored out with exit status 1:\n",
            "     command: 'C:\\Users\\Anna Maria Borowska\\anaconda3\\python.exe' -u -c 'import io, os, sys, setuptools, tokenize; sys.argv[0] = '\"'\"'C:\\\\Users\\\\Anna Maria Borowska\\\\AppData\\\\Local\\\\Temp\\\\pip-install-57nuk48q\\\\fiona_f6f65710529e437cadf7e8e9f9b820ae\\\\setup.py'\"'\"'; __file__='\"'\"'C:\\\\Users\\\\Anna Maria Borowska\\\\AppData\\\\Local\\\\Temp\\\\pip-install-57nuk48q\\\\fiona_f6f65710529e437cadf7e8e9f9b820ae\\\\setup.py'\"'\"';f = getattr(tokenize, '\"'\"'open'\"'\"', open)(__file__) if os.path.exists(__file__) else io.StringIO('\"'\"'from setuptools import setup; setup()'\"'\"');code = f.read().replace('\"'\"'\\r\\n'\"'\"', '\"'\"'\\n'\"'\"');f.close();exec(compile(code, __file__, '\"'\"'exec'\"'\"'))' install --record 'C:\\Users\\Anna Maria Borowska\\AppData\\Local\\Temp\\pip-record-tyqvpno9\\install-record.txt' --single-version-externally-managed --compile --install-headers 'C:\\Users\\Anna Maria Borowska\\anaconda3\\Include\\fiona'\n",
            "         cwd: C:\\Users\\Anna Maria Borowska\\AppData\\Local\\Temp\\pip-install-57nuk48q\\fiona_f6f65710529e437cadf7e8e9f9b820ae\\\n",
            "    Complete output (12 lines):\n",
            "    C:\\Users\\Anna Maria Borowska\\anaconda3\\lib\\distutils\\dist.py:274: UserWarning: Unknown distribution option: 'metadata_version'\n",
            "      warnings.warn(msg)\n",
            "    C:\\Users\\Anna Maria Borowska\\anaconda3\\lib\\distutils\\dist.py:274: UserWarning: Unknown distribution option: 'requires_python'\n",
            "      warnings.warn(msg)\n",
            "    C:\\Users\\Anna Maria Borowska\\anaconda3\\lib\\distutils\\dist.py:274: UserWarning: Unknown distribution option: 'requires_external'\n",
            "      warnings.warn(msg)\n",
            "    running install\n",
            "    running build\n",
            "    running build_py\n",
            "    running build_ext\n",
            "    building 'fiona._transform' extension\n",
            "    error: Microsoft Visual C++ 14.0 or greater is required. Get it with \"Microsoft C++ Build Tools\": https://visualstudio.microsoft.com/visual-cpp-build-tools/\n",
            "    ----------------------------------------\n",
            "ERROR: Command errored out with exit status 1: 'C:\\Users\\Anna Maria Borowska\\anaconda3\\python.exe' -u -c 'import io, os, sys, setuptools, tokenize; sys.argv[0] = '\"'\"'C:\\\\Users\\\\Anna Maria Borowska\\\\AppData\\\\Local\\\\Temp\\\\pip-install-57nuk48q\\\\fiona_f6f65710529e437cadf7e8e9f9b820ae\\\\setup.py'\"'\"'; __file__='\"'\"'C:\\\\Users\\\\Anna Maria Borowska\\\\AppData\\\\Local\\\\Temp\\\\pip-install-57nuk48q\\\\fiona_f6f65710529e437cadf7e8e9f9b820ae\\\\setup.py'\"'\"';f = getattr(tokenize, '\"'\"'open'\"'\"', open)(__file__) if os.path.exists(__file__) else io.StringIO('\"'\"'from setuptools import setup; setup()'\"'\"');code = f.read().replace('\"'\"'\\r\\n'\"'\"', '\"'\"'\\n'\"'\"');f.close();exec(compile(code, __file__, '\"'\"'exec'\"'\"'))' install --record 'C:\\Users\\Anna Maria Borowska\\AppData\\Local\\Temp\\pip-record-tyqvpno9\\install-record.txt' --single-version-externally-managed --compile --install-headers 'C:\\Users\\Anna Maria Borowska\\anaconda3\\Include\\fiona' Check the logs for full command output.\n"
          ]
        }
      ],
      "source": [
        "pip install geopandas"
      ]
    },
    {
      "cell_type": "code",
      "execution_count": null,
      "id": "147baae9-a393-4175-a553-70c28dd554e7",
      "metadata": {
        "id": "147baae9-a393-4175-a553-70c28dd554e7"
      },
      "outputs": [],
      "source": [
        "pip install geoplot"
      ]
    },
    {
      "cell_type": "code",
      "execution_count": null,
      "id": "5ba4b2cc-46a4-443f-9e1d-ba986a0a2c25",
      "metadata": {
        "id": "5ba4b2cc-46a4-443f-9e1d-ba986a0a2c25"
      },
      "outputs": [],
      "source": [
        "import os\n",
        "import zipfile\n",
        "import requests\n",
        "import numpy as np\n",
        "import pandas as pd\n",
        "import matplotlib.pyplot as plt\n",
        "\n",
        "from IPython.display import display, Image\n",
        "from IPython.core.interactiveshell import InteractiveShell\n",
        "\n",
        "%matplotlib inline"
      ]
    },
    {
      "cell_type": "code",
      "execution_count": null,
      "id": "3ad0e063-8610-47a3-8402-049fec7f276e",
      "metadata": {
        "id": "3ad0e063-8610-47a3-8402-049fec7f276e"
      },
      "outputs": [],
      "source": [
        "import geopandas as gpd\n",
        "from geopandas.tools import geocode\n",
        "from shapely.geometry import LineString, MultiPolygon"
      ]
    },
    {
      "cell_type": "code",
      "execution_count": null,
      "id": "f2289ff5-40d1-4369-94c2-732975a72dc7",
      "metadata": {
        "id": "f2289ff5-40d1-4369-94c2-732975a72dc7"
      },
      "outputs": [],
      "source": [
        ""
      ]
    },
    {
      "cell_type": "code",
      "execution_count": null,
      "id": "b6a14255-03cf-40f6-a122-41d11fd4a9f3",
      "metadata": {
        "id": "b6a14255-03cf-40f6-a122-41d11fd4a9f3"
      },
      "outputs": [],
      "source": [
        "# Tipp https://towardsdatascience.com/geocode-with-python-161ec1e62b89"
      ]
    },
    {
      "cell_type": "code",
      "execution_count": null,
      "id": "22c0dc8a-3da9-46bc-967e-51ce6d4c95f9",
      "metadata": {
        "id": "22c0dc8a-3da9-46bc-967e-51ce6d4c95f9",
        "outputId": "23a0d805-416b-440e-b1ad-79f4e89eab7d"
      },
      "outputs": [
        {
          "ename": "ModuleNotFoundError",
          "evalue": "No module named 'geopandas'",
          "output_type": "error",
          "traceback": [
            "\u001b[1;31m---------------------------------------------------------------------------\u001b[0m",
            "\u001b[1;31mModuleNotFoundError\u001b[0m                       Traceback (most recent call last)",
            "\u001b[1;32mC:\\Users\\ANNAMA~1\\AppData\\Local\\Temp/ipykernel_5212/3108499666.py\u001b[0m in \u001b[0;36m<module>\u001b[1;34m\u001b[0m\n\u001b[0;32m     21\u001b[0m \u001b[1;32mfrom\u001b[0m \u001b[0mbs4\u001b[0m \u001b[1;32mimport\u001b[0m \u001b[0mBeautifulSoup\u001b[0m\u001b[1;33m\u001b[0m\u001b[1;33m\u001b[0m\u001b[0m\n\u001b[0;32m     22\u001b[0m \u001b[1;33m\u001b[0m\u001b[0m\n\u001b[1;32m---> 23\u001b[1;33m \u001b[1;32mimport\u001b[0m \u001b[0mgeopandas\u001b[0m \u001b[1;32mas\u001b[0m \u001b[0mgpd\u001b[0m\u001b[1;33m\u001b[0m\u001b[1;33m\u001b[0m\u001b[0m\n\u001b[0m\u001b[0;32m     24\u001b[0m \u001b[1;32mfrom\u001b[0m \u001b[0mgeopandas\u001b[0m\u001b[1;33m.\u001b[0m\u001b[0mtools\u001b[0m \u001b[1;32mimport\u001b[0m \u001b[0mgeocode\u001b[0m\u001b[1;33m\u001b[0m\u001b[1;33m\u001b[0m\u001b[0m\n\u001b[0;32m     25\u001b[0m \u001b[1;33m\u001b[0m\u001b[0m\n",
            "\u001b[1;31mModuleNotFoundError\u001b[0m: No module named 'geopandas'"
          ]
        }
      ],
      "source": [
        "import re\n",
        "import sys\n",
        "import os\n",
        "import json\n",
        "import time\n",
        "import codecs\n",
        "from datetime import datetime\n",
        "from datetime import timedelta\n",
        "from itertools import chain\n",
        "from itertools import cycle\n",
        "\n",
        "import numpy as np\n",
        "import pandas as pd\n",
        "import matplotlib.pyplot as plt\n",
        "from matplotlib import cm\n",
        "\n",
        "import requests\n",
        "import urllib\n",
        "from urllib.request import urlopen\n",
        "import webbrowser\n",
        "from bs4 import BeautifulSoup\n",
        "\n",
        "import geopandas as gpd\n",
        "from geopandas.tools import geocode\n",
        "\n",
        "import ipywidgets as widgets\n",
        "\n",
        "%matplotlib inline"
      ]
    },
    {
      "cell_type": "code",
      "execution_count": null,
      "id": "e47efe38-8d28-4f03-9f08-12171f108395",
      "metadata": {
        "id": "e47efe38-8d28-4f03-9f08-12171f108395"
      },
      "outputs": [],
      "source": [
        "import pandas as pd\n",
        "\n",
        "df.columns = {'Adresse'}\n",
        "\n",
        "new_column = pd.DataFrame(Adresse)\n",
        "\n",
        "d = new_df ['Adresse'].tolist()\n",
        "print(\"Convert dataframe to list:\",d)"
      ]
    },
    {
      "cell_type": "markdown",
      "id": "67433345-6a9a-46e7-b1e0-489e9b25e8ea",
      "metadata": {
        "id": "67433345-6a9a-46e7-b1e0-489e9b25e8ea"
      },
      "source": [
        "if address is true then:\n",
        "print(geolocator)"
      ]
    },
    {
      "cell_type": "code",
      "execution_count": null,
      "id": "c10e6ce4-0ea3-4e85-8445-d796cf7b032d",
      "metadata": {
        "id": "c10e6ce4-0ea3-4e85-8445-d796cf7b032d",
        "outputId": "861a8261-fc69-4222-b88a-d690447258dd"
      },
      "outputs": [
        {
          "ename": "SyntaxError",
          "evalue": "invalid syntax (Temp/ipykernel_5212/2621672876.py, line 1)",
          "output_type": "error",
          "traceback": [
            "\u001b[1;36m  File \u001b[1;32m\"C:\\Users\\ANNAMA~1\\AppData\\Local\\Temp/ipykernel_5212/2621672876.py\"\u001b[1;36m, line \u001b[1;32m1\u001b[0m\n\u001b[1;33m    def list address:\u001b[0m\n\u001b[1;37m             ^\u001b[0m\n\u001b[1;31mSyntaxError\u001b[0m\u001b[1;31m:\u001b[0m invalid syntax\n"
          ]
        }
      ],
      "source": [
        "def list address: \n",
        "    for address in df.columns:\n",
        "        if df.columns['Adresse'] is ['NaN']:\n",
        "        print()\n",
        "            elif:\n",
        "            print(' ')\n",
        "            \n",
        "        "
      ]
    },
    {
      "cell_type": "markdown",
      "id": "1fccc779-9341-4fa2-9809-71560e36b369",
      "metadata": {
        "id": "1fccc779-9341-4fa2-9809-71560e36b369"
      },
      "source": [
        "### Creating geolocator"
      ]
    },
    {
      "cell_type": "code",
      "execution_count": null,
      "id": "ad13c848-0bcc-4f9e-b61c-7cfe0b06a1ad",
      "metadata": {
        "id": "ad13c848-0bcc-4f9e-b61c-7cfe0b06a1ad"
      },
      "outputs": [],
      "source": [
        "import geopy.geocoders as gg\n",
        "\n",
        "geolocator = gg.Nominatim(user_agent=\"Denkmäler\")"
      ]
    },
    {
      "cell_type": "code",
      "execution_count": null,
      "id": "77b6722f-4cc3-423f-9800-a63e541503d0",
      "metadata": {
        "id": "77b6722f-4cc3-423f-9800-a63e541503d0"
      },
      "outputs": [],
      "source": [
        "df[\"loc\"] = df[\"Adresse\"].apply(geolocator.geocode)"
      ]
    },
    {
      "cell_type": "code",
      "execution_count": null,
      "id": "cb945923-a231-4ace-87f8-71546458de75",
      "metadata": {
        "id": "cb945923-a231-4ace-87f8-71546458de75"
      },
      "outputs": [],
      "source": [
        "#creating list for adresses in column\n",
        "list = [df]"
      ]
    },
    {
      "cell_type": "code",
      "execution_count": null,
      "id": "b3963618-25d1-4ac0-a10f-11cddd400642",
      "metadata": {
        "id": "b3963618-25d1-4ac0-a10f-11cddd400642"
      },
      "outputs": [],
      "source": [
        "# 1\n",
        "def get_Adress():\n",
        "    global adress\n",
        "    x = []\n",
        "    adress = [[x]]\n",
        "    for i, value in df.iterrows(3):\n",
        "        if value['Adresse']:\n",
        "            x.append(i)\n",
        "        else:\n",
        "            continue\n",
        "            adress.append(x)\n",
        "    get_Adress()"
      ]
    },
    {
      "cell_type": "code",
      "execution_count": null,
      "id": "f2c16e40-ebd7-4adb-a2ca-246f595ccf45",
      "metadata": {
        "id": "f2c16e40-ebd7-4adb-a2ca-246f595ccf45"
      },
      "outputs": [],
      "source": [
        "print(get_Adress)"
      ]
    },
    {
      "cell_type": "code",
      "execution_count": null,
      "id": "fa708af2-c5d6-4a6c-89a9-5079ee37c2cd",
      "metadata": {
        "id": "fa708af2-c5d6-4a6c-89a9-5079ee37c2cd"
      },
      "outputs": [],
      "source": [
        "#2\n",
        "def list of range(3):\n",
        "    for i in range():\n",
        "    print(list(adress))"
      ]
    },
    {
      "cell_type": "code",
      "execution_count": null,
      "id": "adbec80a-6b3c-451b-8911-5c7eb3019efa",
      "metadata": {
        "id": "adbec80a-6b3c-451b-8911-5c7eb3019efa"
      },
      "outputs": [],
      "source": [
        "def dfadress_column in list:\n",
        "    for int adress_column in list(3):\n",
        "    print(adress_column)\n",
        "    for adress_column in list():\n",
        "        print(adress_column)"
      ]
    },
    {
      "cell_type": "code",
      "execution_count": null,
      "id": "5a475975-1197-4117-ac80-ed2aeaf46a32",
      "metadata": {
        "id": "5a475975-1197-4117-ac80-ed2aeaf46a32"
      },
      "outputs": [],
      "source": [
        "datapath = (\"https://bda.gv.at/denkmalverzeichnis/#wien\")"
      ]
    },
    {
      "cell_type": "code",
      "execution_count": null,
      "id": "d1711de3-1aed-44fe-ac72-991e2774ff29",
      "metadata": {
        "id": "d1711de3-1aed-44fe-ac72-991e2774ff29"
      },
      "outputs": [],
      "source": [
        "datapath = (\"Documents/PYTHON/Python_Course-master/_W_2021raw_ID_3367POS (4).csv\")\n",
        "list_download_Verordnungen =pd.read_datapath\n",
        "len(list_Veordnungen)"
      ]
    },
    {
      "cell_type": "code",
      "execution_count": null,
      "id": "031983a3-675e-48e4-9dca-524ccb7ba9cb",
      "metadata": {
        "id": "031983a3-675e-48e4-9dca-524ccb7ba9cb"
      },
      "outputs": [],
      "source": [
        ""
      ]
    },
    {
      "cell_type": "code",
      "execution_count": null,
      "id": "ec5bf62b-2274-4df4-b10f-ed7266ac3b85",
      "metadata": {
        "id": "ec5bf62b-2274-4df4-b10f-ed7266ac3b85"
      },
      "outputs": [],
      "source": [
        "import geopy.geocoders as gg\n",
        "\n",
        "geolocator = gg.Nominatim(user_agent=\"denkmalliste.wien\") "
      ]
    },
    {
      "cell_type": "code",
      "execution_count": null,
      "id": "f3111cd1-8cc8-4ae1-a25e-a50aeccac302",
      "metadata": {
        "id": "f3111cd1-8cc8-4ae1-a25e-a50aeccac302"
      },
      "outputs": [],
      "source": [
        ""
      ]
    },
    {
      "cell_type": "code",
      "execution_count": null,
      "id": "78352c76-3660-4848-bf17-f93e86bcd1f0",
      "metadata": {
        "id": "78352c76-3660-4848-bf17-f93e86bcd1f0"
      },
      "outputs": [],
      "source": [
        "address = \"Universitätsring 1, 1010 Wien\"\n",
        "location = geolocator.geocode(address)\n",
        "print(location.address)"
      ]
    },
    {
      "cell_type": "code",
      "execution_count": null,
      "id": "0a9c4955-28be-451d-846c-ac95b262f161",
      "metadata": {
        "id": "0a9c4955-28be-451d-846c-ac95b262f161"
      },
      "outputs": [],
      "source": [
        "print((location.latitude, location.longitude))"
      ]
    },
    {
      "cell_type": "code",
      "execution_count": null,
      "id": "b9d7a7af-7530-459b-a251-0ceea0544380",
      "metadata": {
        "id": "b9d7a7af-7530-459b-a251-0ceea0544380"
      },
      "outputs": [],
      "source": [
        "addresses = geolocator.reverse((48.2,16.3))\n",
        "for address in addresses:\n",
        "    print(address)"
      ]
    },
    {
      "cell_type": "markdown",
      "id": "ecd424f7-68be-4816-9a1e-f29c4871a2d3",
      "metadata": {
        "id": "ecd424f7-68be-4816-9a1e-f29c4871a2d3"
      },
      "source": [
        "## Transforming geodata in pins"
      ]
    },
    {
      "cell_type": "markdown",
      "id": "83da2f19-d6f2-48c6-9e34-e375cb96d173",
      "metadata": {
        "id": "83da2f19-d6f2-48c6-9e34-e375cb96d173"
      },
      "source": [
        "Categorize Data: Types of Buildings and monuments should be later visible on thr map (colours of the pins)."
      ]
    },
    {
      "cell_type": "markdown",
      "id": "e68f9653-6945-4a4a-8aef-1b6b5b83b667",
      "metadata": {
        "id": "e68f9653-6945-4a4a-8aef-1b6b5b83b667"
      },
      "source": [
        "## Visualizing data"
      ]
    },
    {
      "cell_type": "code",
      "execution_count": null,
      "id": "04f00c39-1648-4869-b256-e48e3c2ea6fa",
      "metadata": {
        "id": "04f00c39-1648-4869-b256-e48e3c2ea6fa"
      },
      "outputs": [],
      "source": [
        "pip install folium"
      ]
    },
    {
      "cell_type": "code",
      "execution_count": null,
      "id": "7df36ce2-6381-4310-a049-75c72d4565da",
      "metadata": {
        "id": "7df36ce2-6381-4310-a049-75c72d4565da"
      },
      "outputs": [],
      "source": [
        "import folium\n",
        "\n",
        "from folium import Choropleth, Circle, Marker, GeoJson\n",
        "from folium.plugins import HeatMap, MarkerCluster"
      ]
    },
    {
      "cell_type": "code",
      "execution_count": null,
      "id": "2938531f-01f9-4cd8-abc9-30f53df12c15",
      "metadata": {
        "id": "2938531f-01f9-4cd8-abc9-30f53df12c15"
      },
      "outputs": [],
      "source": [
        "git remote add origin https://github.com/ambo2020/Assignement.git\n",
        "git branch -M main\n",
        "git push -u origin main"
      ]
    },
    {
      "cell_type": "markdown",
      "id": "bf1fbdf4-95f8-4958-94e6-3d5ae7ff2f4a",
      "metadata": {
        "id": "bf1fbdf4-95f8-4958-94e6-3d5ae7ff2f4a"
      },
      "source": [
        "### Display on googlemaps"
      ]
    },
    {
      "cell_type": "code",
      "execution_count": null,
      "id": "5885710c-a918-477a-b087-564b50d0032c",
      "metadata": {
        "id": "5885710c-a918-477a-b087-564b50d0032c"
      },
      "outputs": [],
      "source": [
        "from IPython.core.display import display"
      ]
    },
    {
      "cell_type": "code",
      "execution_count": null,
      "id": "9b92e7b5-3d2c-4eeb-966c-b8b1793a3c38",
      "metadata": {
        "id": "9b92e7b5-3d2c-4eeb-966c-b8b1793a3c38"
      },
      "outputs": [],
      "source": [
        "#from the notebook\n",
        "def gmap(address,lat,lon,zoom=15,tmap='m'):\n",
        "    \n",
        "    base_url = 'http://maps.google.com/maps'\n",
        "    gmap_url = base_url + f'?q={address}&loc:{lat}+{lon}&z={zoom}&t={tmap}&output=embed'\n",
        "    display(IFrame(gmap_url, '800px', '600px'))\n",
        "    \n",
        "gmap(address, location.latitude, location.longitude, 17, 'k')"
      ]
    },
    {
      "cell_type": "markdown",
      "id": "a37ec68c-9cbd-4392-8345-ccff914d9a11",
      "metadata": {
        "id": "a37ec68c-9cbd-4392-8345-ccff914d9a11"
      },
      "source": [
        "### Creating map with json"
      ]
    },
    {
      "cell_type": "code",
      "execution_count": null,
      "id": "628e9657-01f1-4cf5-b922-2101be17bc19",
      "metadata": {
        "id": "628e9657-01f1-4cf5-b922-2101be17bc19"
      },
      "outputs": [],
      "source": [
        "gdf1 = gpd.read_file({\"type\":\"FeatureCollection\",\"crs\":{\"type\":\"name\",\"properties\":{\"name\":\"EPSG:31256\"}},\"bbox\":[2068.97,342260.31,2086.71,342283.83],\"features\":[{\"type\":\"Feature\",\"geometry\":{\"type\":\"Point\",\"coordinates\":[2086.71,342260.31]},\"bbox\":[2086.71,342260.31,2086.71,342260.31],\"properties\":{\"Location\":{\"type\":\"Point\",\"coordinates\":[2085.86,342264.68]},\"GeocodeType\":\"A3\",\"LocCountrySubdivision\":\"Wien\",\"Bezirk\":\"09\",\"Zaehlbezirk\":\"0905\",\"Zaehlgebiet\":\"09053\",\"PostalCode\":\"1090\",\"CountryCode\":\"AT\",\"CountrySubdivision\":\"Wien\",\"Municipality\":\"Wien\",\"MunicipalitySubdivision\":\"Alsergrund\",\"StreetName\":\"Thurngasse\",\"StreetNumber\":\"8\",\"Adresse\":\"Thurngasse 8\",\"AdressID\":10074543,\"GIP_NAME_ID\":10004791,\"HauptIdentAdresse\":\"H\",\"ACD\":\"014346\",\"SCD\":\"04892\",\"STRABS\":\"04892003009\",\"Distance\":4.45189847045543,\"DistanceUnit\":\"meter\",\"DistanceMethod\":\"linear distance\",\"FeatureCategoryCode\":8012}},{\"type\":\"Feature\",\"geometry\":{\"type\":\"Point\",\"coordinates\":[2068.97,342273.42]},\"bbox\":[2068.97,342273.42,2068.97,342273.42],\"properties\":{\"Location\":{\"type\":\"Point\",\"coordinates\":[2085.86,342264.68]},\"GeocodeType\":\"A3\",\"LocCountrySubdivision\":\"Wien\",\"Bezirk\":\"09\",\"Zaehlbezirk\":\"0905\",\"Zaehlgebiet\":\"09053\",\"PostalCode\":\"1090\",\"CountryCode\":\"AT\",\"CountrySubdivision\":\"Wien\",\"Municipality\":\"Wien\",\"MunicipalitySubdivision\":\"Alsergrund\",\"StreetName\":\"Thurngasse\",\"StreetNumber\":\"11\",\"Adresse\":\"Thurngasse 11\",\"AdressID\":10074588,\"GIP_NAME_ID\":10004791,\"HauptIdentAdresse\":\"H\",\"ACD\":\"014380\",\"SCD\":\"04892\",\"STRABS\":\"04892003009\",\"Distance\":19.0173526025212,\"DistanceUnit\":\"meter\",\"DistanceMethod\":\"linear distance\",\"FeatureCategoryCode\":8012}},{\"type\":\"Feature\",\"geometry\":{\"type\":\"Point\",\"coordinates\":[2085.04,342283.83]},\"bbox\":[2085.04,342283.83,2085.04,342283.83],\"properties\":{\"Location\":{\"type\":\"Point\",\"coordinates\":[2085.86,342264.68]},\"GeocodeType\":\"A3\",\"LocCountrySubdivision\":\"Wien\",\"Bezirk\":\"09\",\"Zaehlbezirk\":\"0905\",\"Zaehlgebiet\":\"09053\",\"PostalCode\":\"1090\",\"CountryCode\":\"AT\",\"CountrySubdivision\":\"Wien\",\"Municipality\":\"Wien\",\"MunicipalitySubdivision\":\"Alsergrund\",\"StreetName\":\"Thurngasse\",\"StreetNumber\":\"13\",\"Adresse\":\"Thurngasse 13\",\"AdressID\":10074589,\"GIP_NAME_ID\":10004791,\"HauptIdentAdresse\":\"H\",\"ACD\":\"014381\",\"SCD\":\"04892\",\"STRABS\":\"04892003009\",\"Distance\":19.1675480956962,\"DistanceUnit\":\"meter\",\"DistanceMethod\":\"linear distance\",\"FeatureCategoryCode\":8012}}]}')"
      ]
    },
    {
      "cell_type": "code",
      "execution_count": null,
      "id": "7093eecb-2da9-4885-b85c-4a0b53005d93",
      "metadata": {
        "id": "7093eecb-2da9-4885-b85c-4a0b53005d93"
      },
      "outputs": [],
      "source": [
        "gdf2 = gpd.read_file('../Data/Geo/KDZ_Stadtregionen_GEM_20160101.geojson')\n",
        "gdf2"
      ]
    },
    {
      "cell_type": "code",
      "execution_count": null,
      "id": "bd3f251c-6db3-4500-9b55-cc29ba2a72fb",
      "metadata": {
        "id": "bd3f251c-6db3-4500-9b55-cc29ba2a72fb"
      },
      "outputs": [],
      "source": [
        "gdf3 = gpd.read_file(' https://data.wien.gv.at/daten/geo?service=WFS&request=GetFeature&version=1.1.0&typeName=ogdwien:LANDESGRENZEOGD&srsName=EPSG:4326&outputFormat=json')\n",
        "gdf3"
      ]
    },
    {
      "cell_type": "code",
      "execution_count": null,
      "id": "02506914-9283-47c1-8583-3752dec22b09",
      "metadata": {
        "id": "02506914-9283-47c1-8583-3752dec22b09"
      },
      "outputs": [],
      "source": [
        "# another  Link\n",
        "gdf4 = gpd.read_file('https://data.wien.gv.at/daten/geo?service=WFS&request=GetFeature&version=1.1.0&typeName=ogdwien:WELTKULTERBEOGD&srsName=EPSG:4326&outputFormat=json')"
      ]
    }
  ],
  "metadata": {
    "kernelspec": {
      "display_name": "Python 3 (ipykernel)",
      "language": "python",
      "name": "python3"
    },
    "language_info": {
      "codemirror_mode": {
        "name": "ipython",
        "version": 3
      },
      "file_extension": ".py",
      "mimetype": "text/x-python",
      "name": "python",
      "nbconvert_exporter": "python",
      "pygments_lexer": "ipython3",
      "version": "3.9.7"
    },
    "colab": {
      "name": "BOROWSKA_ Final Assignement (2).ipynb",
      "provenance": [],
      "include_colab_link": true
    }
  },
  "nbformat": 4,
  "nbformat_minor": 5
}