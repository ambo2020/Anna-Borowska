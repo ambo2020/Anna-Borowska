{
  "nbformat": 4,
  "nbformat_minor": 0,
  "metadata": {
    "kernelspec": {
      "display_name": "Python 3",
      "language": "python",
      "name": "python3"
    },
    "language_info": {
      "codemirror_mode": {
        "name": "ipython",
        "version": 3
      },
      "file_extension": ".py",
      "mimetype": "text/x-python",
      "name": "python",
      "nbconvert_exporter": "python",
      "pygments_lexer": "ipython3",
      "version": "3.8.5"
    },
    "colab": {
      "name": "Borowska Anna Maria_Assignment_1.ipynb",
      "provenance": [],
      "include_colab_link": true
    }
  },
  "cells": [
    {
      "cell_type": "markdown",
      "metadata": {
        "id": "view-in-github",
        "colab_type": "text"
      },
      "source": [
        "<a href=\"https://colab.research.google.com/github/ambo2020/Anna-Borowska/blob/master/Borowska_Anna_Maria_Assignment_1.ipynb\" target=\"_parent\"><img src=\"https://colab.research.google.com/assets/colab-badge.svg\" alt=\"Open In Colab\"/></a>"
      ]
    },
    {
      "cell_type": "markdown",
      "metadata": {
        "id": "G_mGCdk6b4i1"
      },
      "source": [
        "## First Assignment"
      ]
    },
    {
      "cell_type": "markdown",
      "metadata": {
        "id": "AHmm5DCMb4i2"
      },
      "source": [
        "#### 1) Apply the appropriate string methods to the **x** variable (as '.upper') to change it exactly to: \"$Dichlorodiphenyltrichloroethane$\"."
      ]
    },
    {
      "cell_type": "code",
      "metadata": {
        "id": "Q1III50yb4i3"
      },
      "source": [
        "x = \"DiClOrod  IFeNi  lTRicLOr oETaNo  DiChlorod iPHeny lTrichL oroEThaNe\"\n"
      ],
      "execution_count": 91,
      "outputs": []
    },
    {
      "cell_type": "code",
      "metadata": {
        "colab": {
          "base_uri": "https://localhost:8080/"
        },
        "id": "ECc9veZpJioZ",
        "outputId": "1d4a4e72-90d7-4992-eb80-81f71144d39d"
      },
      "source": [
        "print(x)\n"
      ],
      "execution_count": 92,
      "outputs": [
        {
          "output_type": "stream",
          "name": "stdout",
          "text": [
            "DiClOrod  IFeNi  lTRicLOr oETaNo  DiChlorod iPHeny lTrichL oroEThaNe\n"
          ]
        }
      ]
    },
    {
      "cell_type": "code",
      "metadata": {
        "colab": {
          "base_uri": "https://localhost:8080/",
          "height": 35
        },
        "id": "INaNcPjPJ_zL",
        "outputId": "bb59a6e9-573e-4ea8-d505-f68c88cf1a49"
      },
      "source": [
        "x.replace(' ', '').title()\n",
        "# \n",
        "# I tried with x.pop and I tried with x.split(',',29) OR index OR delete\n"
      ],
      "execution_count": 93,
      "outputs": [
        {
          "output_type": "execute_result",
          "data": {
            "application/vnd.google.colaboratory.intrinsic+json": {
              "type": "string"
            },
            "text/plain": [
              "'Diclorodifeniltricloroetanodichlorodiphenyltrichloroethane'"
            ]
          },
          "metadata": {},
          "execution_count": 93
        }
      ]
    },
    {
      "cell_type": "code",
      "metadata": {
        "colab": {
          "base_uri": "https://localhost:8080/"
        },
        "id": "QeVVvekwPaUH",
        "outputId": "ee8e4f30-9509-4dba-b8cb-14fc6b7ca8eb"
      },
      "source": [
        "x.split(',',31)"
      ],
      "execution_count": 87,
      "outputs": [
        {
          "output_type": "execute_result",
          "data": {
            "text/plain": [
              "['DiClOrod  IFeNi  lTRicLOr oETaNo  DiChlorod iPHeny lTrichL oroEThaNe']"
            ]
          },
          "metadata": {},
          "execution_count": 87
        }
      ]
    },
    {
      "cell_type": "code",
      "metadata": {
        "id": "PNBD4Yg1IYqb"
      },
      "source": [
        "x = x[x.find('Dichlorodipheny'):]"
      ],
      "execution_count": 95,
      "outputs": []
    },
    {
      "cell_type": "code",
      "metadata": {
        "colab": {
          "base_uri": "https://localhost:8080/"
        },
        "id": "DCEQotZaIuhO",
        "outputId": "6d11d184-c11e-4789-c503-0049bc6b161c"
      },
      "source": [
        "print(x)"
      ],
      "execution_count": 97,
      "outputs": [
        {
          "output_type": "stream",
          "name": "stdout",
          "text": [
            "e\n"
          ]
        }
      ]
    },
    {
      "cell_type": "code",
      "metadata": {
        "id": "hgroTMsyog_F"
      },
      "source": [
        "uppercase_string=x.upper()"
      ],
      "execution_count": null,
      "outputs": []
    },
    {
      "cell_type": "code",
      "metadata": {
        "colab": {
          "base_uri": "https://localhost:8080/"
        },
        "id": "ifCz8MGQpgq2",
        "outputId": "4ab6f952-7c16-47ce-c08e-95cf6ad33e87"
      },
      "source": [
        "print(uppercase_string)"
      ],
      "execution_count": null,
      "outputs": [
        {
          "output_type": "stream",
          "name": "stdout",
          "text": [
            "DICLOROD  IFENI  LTRICLOR OETANO  DICHLOROD IPHENY LTRICHL OROETHANE\n"
          ]
        }
      ]
    },
    {
      "cell_type": "markdown",
      "metadata": {
        "id": "Cd-UEOm1b4i4"
      },
      "source": [
        "#### 2) Assign respectively the values: 'word', 15, 3.14 and 'list' to variables A, B, C and D in a single line of code. Then, print them in that same order on a single line separated by a space, using only one print statement."
      ]
    },
    {
      "cell_type": "code",
      "metadata": {
        "id": "3JDk7DZXcaJ7"
      },
      "source": [
        "# 1\n",
        "A,B,C,D = ['word', 15, 3.14, 'list']"
      ],
      "execution_count": null,
      "outputs": []
    },
    {
      "cell_type": "code",
      "metadata": {
        "colab": {
          "base_uri": "https://localhost:8080/",
          "height": 35
        },
        "id": "mXMsPFhFPnt4",
        "outputId": "adf4f685-847f-45c6-c847-7e05baebd1f4"
      },
      "source": [
        "D"
      ],
      "execution_count": null,
      "outputs": [
        {
          "output_type": "execute_result",
          "data": {
            "application/vnd.google.colaboratory.intrinsic+json": {
              "type": "string"
            },
            "text/plain": [
              "'list'"
            ]
          },
          "metadata": {},
          "execution_count": 17
        }
      ]
    },
    {
      "cell_type": "markdown",
      "metadata": {
        "id": "aPumvAZfb4i4"
      },
      "source": [
        "#### 3) Use the **input()** function to receive an input in the form **'68.4 1.71'**, that is, two floating point numbers in a line separated by space. Then, assign these numbers to the variables **w** and **h** respectively, which represent an individual's weight and height (hint: take a look at the '.split()' method). With this data, calculate the individual's Body Mass Index (BMI) from the following relationship: \n",
        "    \n",
        "\\begin{equation}\n",
        "BMI = \\dfrac{weight}{height^2}\n",
        "\\end{equation}"
      ]
    },
    {
      "cell_type": "code",
      "metadata": {
        "id": "94K-GDRhb4i5"
      },
      "source": [
        "#1\n",
        "def bmi (weight = 0, height = 0):\n",
        "    if bmi== 0:\n",
        "        bmi = input('68.4' '1.71')    \n",
        "        bmi.split('','')\n",
        "        bmi = float(weight)/((float(height)/100)**2)\n",
        "        print(bmi)\n",
        "  "
      ],
      "execution_count": null,
      "outputs": []
    },
    {
      "cell_type": "code",
      "metadata": {
        "colab": {
          "base_uri": "https://localhost:8080/"
        },
        "id": "DmmzjHKqbghP",
        "outputId": "bd612c74-8bdd-4dc5-8d46-b5328c1f0ae6"
      },
      "source": [
        "print(bmi)"
      ],
      "execution_count": null,
      "outputs": [
        {
          "output_type": "stream",
          "name": "stdout",
          "text": [
            "<function bmi at 0x7fc9360d1b90>\n"
          ]
        }
      ]
    },
    {
      "cell_type": "code",
      "metadata": {
        "colab": {
          "base_uri": "https://localhost:8080/"
        },
        "id": "cHbpGFSEWxDg",
        "outputId": "718bf582-dc0f-4043-c449-95ce1c059320"
      },
      "source": [
        "w, h = 68.4, 1.71\n",
        "print(w)\n",
        "print(h)"
      ],
      "execution_count": null,
      "outputs": [
        {
          "output_type": "stream",
          "name": "stdout",
          "text": [
            "68.4\n",
            "1.71\n"
          ]
        }
      ]
    },
    {
      "cell_type": "code",
      "metadata": {
        "id": "1ufcIJAMGk16"
      },
      "source": [
        "#2"
      ],
      "execution_count": null,
      "outputs": []
    },
    {
      "cell_type": "code",
      "metadata": {
        "colab": {
          "base_uri": "https://localhost:8080/"
        },
        "id": "51t16AYEFtRT",
        "outputId": "9911a074-9d4f-45f4-fa40-3032745d1ced"
      },
      "source": [
        "x = input('enter height space weight : ')"
      ],
      "execution_count": null,
      "outputs": [
        {
          "name": "stdout",
          "output_type": "stream",
          "text": [
            "enter height and weight : 168 68\n"
          ]
        }
      ]
    },
    {
      "cell_type": "code",
      "metadata": {
        "colab": {
          "base_uri": "https://localhost:8080/",
          "height": 35
        },
        "id": "QSU5ARctGB3r",
        "outputId": "32ce7428-5b7c-4f88-b259-7bdedd6e3d45"
      },
      "source": [
        "x"
      ],
      "execution_count": null,
      "outputs": [
        {
          "output_type": "execute_result",
          "data": {
            "application/vnd.google.colaboratory.intrinsic+json": {
              "type": "string"
            },
            "text/plain": [
              "'168 68'"
            ]
          },
          "metadata": {},
          "execution_count": 10
        }
      ]
    },
    {
      "cell_type": "code",
      "metadata": {
        "id": "FaBmLP7dGD39"
      },
      "source": [
        "y = x.split(' ')"
      ],
      "execution_count": null,
      "outputs": []
    },
    {
      "cell_type": "code",
      "metadata": {
        "colab": {
          "base_uri": "https://localhost:8080/"
        },
        "id": "1yNzxCD7GKh9",
        "outputId": "4643141e-c7b4-4353-d780-5ca0a46ce1ca"
      },
      "source": [
        "y"
      ],
      "execution_count": null,
      "outputs": [
        {
          "output_type": "execute_result",
          "data": {
            "text/plain": [
              "['168', '68']"
            ]
          },
          "metadata": {},
          "execution_count": 13
        }
      ]
    },
    {
      "cell_type": "code",
      "metadata": {
        "id": "k9ztmbl0GOJ5"
      },
      "source": [
        "height = float(y[0])"
      ],
      "execution_count": null,
      "outputs": []
    },
    {
      "cell_type": "code",
      "metadata": {
        "colab": {
          "base_uri": "https://localhost:8080/"
        },
        "id": "zURNEfXbGZna",
        "outputId": "ef74cfa3-22c1-4370-b8e5-b6f7c301ae8f"
      },
      "source": [
        "type(height)"
      ],
      "execution_count": null,
      "outputs": [
        {
          "output_type": "execute_result",
          "data": {
            "text/plain": [
              "float"
            ]
          },
          "metadata": {},
          "execution_count": 16
        }
      ]
    },
    {
      "cell_type": "markdown",
      "metadata": {
        "id": "m1h4Ums2b4i5"
      },
      "source": [
        "#### This value can also be classified according to ranges of values, following to the table below. Use conditional structures to classify and print the classification assigned to the individual. \n",
        "\n",
        "<center><img src=\"https://healthtravelguide.com/wp-content/uploads/2020/06/Body-mass-index-table.png\" width=\"30%\"><\\center>  \n",
        "\n",
        "\n",
        "(source: https://healthtravelguide.com/bmi-calculator/)"
      ]
    },
    {
      "cell_type": "code",
      "metadata": {
        "id": "KvdwbKrqb4i5",
        "colab": {
          "base_uri": "https://localhost:8080/"
        },
        "outputId": "0eef432b-8360-4a62-8ae5-00fd76798b2c"
      },
      "source": [
        "#1\n",
        "bmi = int(input())\n",
        "def bmi(weight= 0, height= 0):\n",
        "    if weight == 0:\n",
        "        weight = input(w)\n",
        "    if height == 0:\n",
        "        height = input(h)\n",
        "    if bmi  < 18.5 and bmi == 18.5:\n",
        "       print('Underweight')\n",
        "    if bmi  > 18.5 and bmi < 24.9 :\n",
        "       print('Normal weight')\n",
        "    if bmi > 25.0 and bmi ==25.0:\n",
        "       print('Pre-obesity or obesity')"
      ],
      "execution_count": null,
      "outputs": [
        {
          "name": "stdout",
          "output_type": "stream",
          "text": [
            "2\n"
          ]
        }
      ]
    },
    {
      "cell_type": "code",
      "metadata": {
        "id": "97DgjXHOdZ6y",
        "colab": {
          "base_uri": "https://localhost:8080/",
          "height": 131
        },
        "outputId": "75864ed6-3097-4023-fede-259116fd9dc2"
      },
      "source": [
        "#2\n",
        "bmi = int(input('BMI: '))\n",
        "    if bmi < 18.5:\n",
        "        print('Underweight')\n",
        "    elif bmi > 18.5 and bmi < 24.9:\n",
        "        print('Normal weight')\n",
        "    elif bmi > 25.0 and bmi ==25.0:\n",
        "        print('Pre-obesity or obesity')"
      ],
      "execution_count": 13,
      "outputs": [
        {
          "output_type": "error",
          "ename": "IndentationError",
          "evalue": "ignored",
          "traceback": [
            "\u001b[0;36m  File \u001b[0;32m\"<ipython-input-13-5a17f79d0275>\"\u001b[0;36m, line \u001b[0;32m3\u001b[0m\n\u001b[0;31m    if bmi < 18.5:\u001b[0m\n\u001b[0m    ^\u001b[0m\n\u001b[0;31mIndentationError\u001b[0m\u001b[0;31m:\u001b[0m unexpected indent\n"
          ]
        }
      ]
    },
    {
      "cell_type": "code",
      "metadata": {
        "colab": {
          "base_uri": "https://localhost:8080/",
          "height": 166
        },
        "id": "_bb_zejGj4RV",
        "outputId": "51ef152c-2802-4971-dd1b-241a7e9f98b8"
      },
      "source": [
        "print(bmi)"
      ],
      "execution_count": 6,
      "outputs": [
        {
          "output_type": "error",
          "ename": "NameError",
          "evalue": "ignored",
          "traceback": [
            "\u001b[0;31m---------------------------------------------------------------------------\u001b[0m",
            "\u001b[0;31mNameError\u001b[0m                                 Traceback (most recent call last)",
            "\u001b[0;32m<ipython-input-6-6b8367de6022>\u001b[0m in \u001b[0;36m<module>\u001b[0;34m()\u001b[0m\n\u001b[0;32m----> 1\u001b[0;31m \u001b[0mprint\u001b[0m\u001b[0;34m(\u001b[0m\u001b[0mbmi\u001b[0m\u001b[0;34m)\u001b[0m\u001b[0;34m\u001b[0m\u001b[0;34m\u001b[0m\u001b[0m\n\u001b[0m",
            "\u001b[0;31mNameError\u001b[0m: name 'bmi' is not defined"
          ]
        }
      ]
    },
    {
      "cell_type": "markdown",
      "metadata": {
        "id": "l4vqGlj5b4i5"
      },
      "source": [
        "#### 4) Receive an integer as an input and, using a loop, calculate the factorial of this number, that is, the product of all the integers from one to the number provided. "
      ]
    },
    {
      "cell_type": "code",
      "metadata": {
        "id": "GoQSxffab4i6",
        "colab": {
          "base_uri": "https://localhost:8080/"
        },
        "outputId": "d8abd1d5-8a3b-4eb9-a333-0f757dc2c723"
      },
      "source": [
        "for integer in range (1,10):\n",
        "    print('   ')\n",
        "    print(f'{integer} ')\n",
        "    print()\n"
      ],
      "execution_count": null,
      "outputs": [
        {
          "output_type": "stream",
          "name": "stdout",
          "text": [
            "   \n",
            "1 \n",
            "\n",
            "   \n",
            "2 \n",
            "\n",
            "   \n",
            "3 \n",
            "\n",
            "   \n",
            "4 \n",
            "\n",
            "   \n",
            "5 \n",
            "\n",
            "   \n",
            "6 \n",
            "\n",
            "   \n",
            "7 \n",
            "\n",
            "   \n",
            "8 \n",
            "\n",
            "   \n",
            "9 \n",
            "\n"
          ]
        }
      ]
    },
    {
      "cell_type": "markdown",
      "metadata": {
        "id": "JJ1yx3vyb4i6"
      },
      "source": [
        "#### 5) Using a while loop and the input function, read an indefinite number of integers until the number read is -1. Present the sum of all these numbers in the form of a print, excluding the -1 read at the end. "
      ]
    },
    {
      "cell_type": "code",
      "metadata": {
        "id": "7hC5Smp3b4i6"
      },
      "source": [
        "x = 1\n",
        "while x < 1:\n",
        "    print(x)\n",
        "    x += -1\n",
        "    print(do_sum(x)).pop"
      ],
      "execution_count": null,
      "outputs": []
    },
    {
      "cell_type": "code",
      "metadata": {
        "colab": {
          "base_uri": "https://localhost:8080/"
        },
        "id": "DPk7Bu7-my3P",
        "outputId": "120fef29-23ac-428a-c7af-7413770781f1"
      },
      "source": [
        "print(x)"
      ],
      "execution_count": null,
      "outputs": [
        {
          "output_type": "stream",
          "name": "stdout",
          "text": [
            "1\n"
          ]
        }
      ]
    },
    {
      "cell_type": "markdown",
      "metadata": {
        "id": "naILZarCb4i6"
      },
      "source": [
        "#### 6) Read the **first name** of an employee, his **amount of hours worked** and the **salary per hour** in a single line separated by commas. Next, calculate the **total salary** for this employee and show it to two decimal places."
      ]
    },
    {
      "cell_type": "code",
      "metadata": {
        "id": "L9BZzJvDb4i6",
        "colab": {
          "base_uri": "https://localhost:8080/"
        },
        "outputId": "55cc1a87-94f5-46c2-ee3e-58119b68af1c"
      },
      "source": [
        "# which data, should I invent name and salary?\n",
        "record = {'first name': 'Susan', 'amount hours worked':150, 'Salary per hour':'12'}\n",
        "print(record)\n",
        "def total_salary(hour_worked, wage):\n",
        "    hours_worked = 150\n",
        "    wage = 12.00\n",
        "    total_salary = [hours_worked]*[wage]\n",
        "print(total_salary)"
      ],
      "execution_count": 20,
      "outputs": [
        {
          "output_type": "stream",
          "name": "stdout",
          "text": [
            "{'first name': 'Susan', 'amount hours worked': 150, 'Salary per hour': '12'}\n",
            "<function total_salary at 0x7f6988501050>\n"
          ]
        }
      ]
    },
    {
      "cell_type": "markdown",
      "metadata": {
        "id": "m9vSspjVb4i6"
      },
      "source": [
        "#### 7) Read three floating point values **A**, **B** and **C** respectively. Then calculate itens a, b, c, d and e: "
      ]
    },
    {
      "cell_type": "code",
      "metadata": {
        "id": "ONPYIIDDt2TV"
      },
      "source": [
        "import math"
      ],
      "execution_count": null,
      "outputs": []
    },
    {
      "cell_type": "markdown",
      "metadata": {
        "id": "JY0aE6K5b4i7"
      },
      "source": [
        "    a) the area of the triangle rectangle with A as the base and C as the height."
      ]
    },
    {
      "cell_type": "code",
      "metadata": {
        "id": "Ykcae6m0b4i7",
        "colab": {
          "base_uri": "https://localhost:8080/",
          "height": 131
        },
        "outputId": "3b7472aa-d6b0-4a2d-b211-119afa6943c8"
      },
      "source": [
        "A = 2\n",
        "C = 1.5\n",
        "from math import area\n",
        "area = float(input('area of trinagle'('1/2' *A * C)\n",
        "print(('area of trinagle ') + str(A) + 'is: ' str(1/2 *A*C))"
      ],
      "execution_count": 41,
      "outputs": [
        {
          "output_type": "error",
          "ename": "SyntaxError",
          "evalue": "ignored",
          "traceback": [
            "\u001b[0;36m  File \u001b[0;32m\"<ipython-input-41-3fc25ddf5212>\"\u001b[0;36m, line \u001b[0;32m5\u001b[0m\n\u001b[0;31m    print(('area of trinagle ') + str(A) + 'is: ' str(1/2 *A*C))\u001b[0m\n\u001b[0m        ^\u001b[0m\n\u001b[0;31mSyntaxError\u001b[0m\u001b[0;31m:\u001b[0m invalid syntax\n"
          ]
        }
      ]
    },
    {
      "cell_type": "markdown",
      "metadata": {
        "id": "Mz16FLzIb4i7"
      },
      "source": [
        "    b) the area of the circle of radius C. (pi = 3.14159) "
      ]
    },
    {
      "cell_type": "code",
      "metadata": {
        "id": "TK_yzMCkb4i7",
        "colab": {
          "base_uri": "https://localhost:8080/"
        },
        "outputId": "2857d8ea-b2e1-4dd4-c670-04ce14655190"
      },
      "source": [
        "from math import pi\n",
        "r = float(input('area of the circle radius C : '))\n",
        "print ('area of the circle radius C ' + str(r) + \" is: \" + str(pi * r**2))"
      ],
      "execution_count": null,
      "outputs": [
        {
          "output_type": "stream",
          "name": "stdout",
          "text": [
            "area of the circle radius C : 1\n",
            "area of the circle radius C 1.0 is: 3.141592653589793\n"
          ]
        }
      ]
    },
    {
      "cell_type": "markdown",
      "metadata": {
        "id": "Q8CvIWcrb4i8"
      },
      "source": [
        "    c) the area of the trapezoid that has A and B for bases and C for height. "
      ]
    },
    {
      "cell_type": "code",
      "metadata": {
        "id": "gCuOjjfob4i8",
        "colab": {
          "base_uri": "https://localhost:8080/"
        },
        "outputId": "957dcbb1-14ca-4060-e13d-b20d2e1728ca"
      },
      "source": [
        "A = b1 \n",
        "B = b2 \n",
        "C = h \n",
        "def area(b1, b2, h):\n",
        "    return ((b1 + b2) / 2) * h\n",
        "area = area(b1, b2, h)\n",
        "print('area is:', area)\n"
      ],
      "execution_count": null,
      "outputs": [
        {
          "output_type": "stream",
          "name": "stdout",
          "text": [
            "area is: 4.275\n"
          ]
        }
      ]
    },
    {
      "cell_type": "markdown",
      "metadata": {
        "id": "xXUbtpKCb4i8"
      },
      "source": [
        "    d) the area of the square that has side B. "
      ]
    },
    {
      "cell_type": "code",
      "metadata": {
        "id": "KKh8blOLb4i8"
      },
      "source": [
        "B = side\n",
        "def areaSquare( side ):\n",
        "    area = side * side\n",
        "    return area\n",
        "   "
      ],
      "execution_count": null,
      "outputs": []
    },
    {
      "cell_type": "markdown",
      "metadata": {
        "id": "cknhs7Q0b4i8"
      },
      "source": [
        "    e) the area of the rectangle that has sides A and B. "
      ]
    },
    {
      "cell_type": "code",
      "metadata": {
        "id": "PtH5g12-b4i8",
        "colab": {
          "base_uri": "https://localhost:8080/"
        },
        "outputId": "52274492-2847-4fee-bffc-7ef9bdbe52d7"
      },
      "source": [
        "A = l\n",
        "b = b\n",
        "l = float(input('Enter the length of a Rectangle: '))\n",
        "b = float(input('Enter the breadth of a Rectangle: '))\n",
        "Area = l * b\n",
        "print(\"Area of a Rectangle is: %.2f\" %Area)\n",
        "l = A\n",
        "b = B\n",
        "\n"
      ],
      "execution_count": null,
      "outputs": [
        {
          "output_type": "stream",
          "name": "stdout",
          "text": [
            "Enter the length of a Rectangle: 2\n",
            "Enter the breadth of a Rectangle: 5\n",
            "Area of a Rectangle is: 10.00\n"
          ]
        }
      ]
    },
    {
      "cell_type": "markdown",
      "metadata": {
        "id": "qIdnpUBpb4i8"
      },
      "source": [
        "#### 8) Read **the values a, b and c** and calculate the **roots of the second degree equation** $ax^{2}+bx+c=0$ using [this formula](https://en.wikipedia.org/wiki/Quadratic_equation). If it is not possible to calculate the roots, display the message **“There are no real roots”**. "
      ]
    },
    {
      "cell_type": "code",
      "metadata": {
        "id": "0RVkuwqSb4i9"
      },
      "source": [
        "import math\n",
        "def equationroots (a, b, c):\n",
        "    dis = (b * b - 4 * a * c)\n",
        "    sqrt_val = math.sqrt(abs(dis))\n",
        "    if dis > 0: \n",
        "        print(' There are no real roots ') \n",
        "        print((-b + sqrt_val)/(2 * a)) \n",
        "        print((-b - sqrt_val)/(2 * a))\n",
        "   \n",
        "\n",
        "    \n"
      ],
      "execution_count": null,
      "outputs": []
    },
    {
      "cell_type": "markdown",
      "metadata": {
        "id": "5RYw9eT_b4i9"
      },
      "source": [
        "#### 9) Read four floating point numerical values corresponding to the coordinates of two geographical coordinates in the cartesian plane. Each point will come in a line with its coordinates separated by space. Then calculate and show the distance between these two points. \n",
        "\n",
        "(obs: $d=\\sqrt{(x_1-x_2)^2 + (y_1-y_2)^2}$)"
      ]
    },
    {
      "cell_type": "code",
      "metadata": {
        "id": "9paFZF04b4i9",
        "colab": {
          "base_uri": "https://localhost:8080/",
          "height": 131
        },
        "outputId": "2e7e47b9-631b-444b-8c37-7550ca9c6794"
      },
      "source": [
        "point1 = [30.0443879, 31.2357257]\n",
        "point2=  [41.8933203, 12.4829321]\n",
        "point1 = (x1, x2)\n",
        "point2 = (y1, y2)\n",
        "float(input('Point 1: ', (point1))\n",
        "float(input('Point 2: ', (point2))\n",
        "distance = equationroots(x,y)\n",
        "print((\"Distance between two points is: \") %.2 f %2)"
      ],
      "execution_count": 3,
      "outputs": [
        {
          "output_type": "error",
          "ename": "SyntaxError",
          "evalue": "ignored",
          "traceback": [
            "\u001b[0;36m  File \u001b[0;32m\"<ipython-input-3-b98b27b838d1>\"\u001b[0;36m, line \u001b[0;32m6\u001b[0m\n\u001b[0;31m    float(input('Point 2: ', (point2))\u001b[0m\n\u001b[0m        ^\u001b[0m\n\u001b[0;31mSyntaxError\u001b[0m\u001b[0;31m:\u001b[0m invalid syntax\n"
          ]
        }
      ]
    },
    {
      "cell_type": "markdown",
      "metadata": {
        "id": "NAo6Q3cIb4i-"
      },
      "source": [
        "#### 10) Read **two floating point numbers** on a line that represent **coordinates of a cartesian point**. With this, use **conditional structures** to determine if you are at the origin, printing the message **'origin'**; in one of the axes, printing **'x axis'** or **'y axis'**; or in one of the four quadrants, printing **'q1'**, **'q2**', **'q3'** or **'q4'**. "
      ]
    },
    {
      "cell_type": "code",
      "metadata": {
        "id": "HvFqrTQ5b4i-",
        "colab": {
          "base_uri": "https://localhost:8080/",
          "height": 131
        },
        "outputId": "097ab854-e2ea-481d-c593-f13c92f0f381"
      },
      "source": [
        "my_origin = [30.0443879, 31.2357257]\n",
        "    if i == my_origin:\n",
        "        print('origin')\n"
      ],
      "execution_count": 7,
      "outputs": [
        {
          "output_type": "error",
          "ename": "IndentationError",
          "evalue": "ignored",
          "traceback": [
            "\u001b[0;36m  File \u001b[0;32m\"<ipython-input-7-011da0e12581>\"\u001b[0;36m, line \u001b[0;32m2\u001b[0m\n\u001b[0;31m    if i == (my_origin):\u001b[0m\n\u001b[0m    ^\u001b[0m\n\u001b[0;31mIndentationError\u001b[0m\u001b[0;31m:\u001b[0m unexpected indent\n"
          ]
        }
      ]
    },
    {
      "cell_type": "markdown",
      "metadata": {
        "id": "MxrqilE9b4i-"
      },
      "source": [
        "#### 11) Read an integer that represents a phone code for international dialing.  \n",
        "#### Then, inform to which country the code belongs to, considering the generated table below:\n",
        "(You just need to consider the first 10 entries)  "
      ]
    },
    {
      "cell_type": "code",
      "metadata": {
        "id": "chkIxH17b4i-",
        "colab": {
          "base_uri": "https://localhost:8080/",
          "height": 676
        },
        "outputId": "1875a5e9-8015-4159-9b58-faa4e5910eef"
      },
      "source": [
        "import pandas as pd\n",
        "df = pd.read_html('https://en.wikipedia.org/wiki/Telephone_numbers_in_Europe')[1]\n",
        "df = df.iloc[:,:2]\n",
        "df.head(20)\n"
      ],
      "execution_count": 44,
      "outputs": [
        {
          "output_type": "execute_result",
          "data": {
            "text/html": [
              "<div>\n",
              "<style scoped>\n",
              "    .dataframe tbody tr th:only-of-type {\n",
              "        vertical-align: middle;\n",
              "    }\n",
              "\n",
              "    .dataframe tbody tr th {\n",
              "        vertical-align: top;\n",
              "    }\n",
              "\n",
              "    .dataframe thead th {\n",
              "        text-align: right;\n",
              "    }\n",
              "</style>\n",
              "<table border=\"1\" class=\"dataframe\">\n",
              "  <thead>\n",
              "    <tr style=\"text-align: right;\">\n",
              "      <th></th>\n",
              "      <th>Country</th>\n",
              "      <th>Country calling code</th>\n",
              "    </tr>\n",
              "  </thead>\n",
              "  <tbody>\n",
              "    <tr>\n",
              "      <th>0</th>\n",
              "      <td>Austria</td>\n",
              "      <td>43</td>\n",
              "    </tr>\n",
              "    <tr>\n",
              "      <th>1</th>\n",
              "      <td>Belgium</td>\n",
              "      <td>32</td>\n",
              "    </tr>\n",
              "    <tr>\n",
              "      <th>2</th>\n",
              "      <td>Bulgaria</td>\n",
              "      <td>359</td>\n",
              "    </tr>\n",
              "    <tr>\n",
              "      <th>3</th>\n",
              "      <td>Croatia</td>\n",
              "      <td>385</td>\n",
              "    </tr>\n",
              "    <tr>\n",
              "      <th>4</th>\n",
              "      <td>Cyprus</td>\n",
              "      <td>357</td>\n",
              "    </tr>\n",
              "    <tr>\n",
              "      <th>5</th>\n",
              "      <td>Czech Republic</td>\n",
              "      <td>420</td>\n",
              "    </tr>\n",
              "    <tr>\n",
              "      <th>6</th>\n",
              "      <td>Denmark</td>\n",
              "      <td>45</td>\n",
              "    </tr>\n",
              "    <tr>\n",
              "      <th>7</th>\n",
              "      <td>Estonia</td>\n",
              "      <td>372</td>\n",
              "    </tr>\n",
              "    <tr>\n",
              "      <th>8</th>\n",
              "      <td>Finland</td>\n",
              "      <td>358</td>\n",
              "    </tr>\n",
              "    <tr>\n",
              "      <th>9</th>\n",
              "      <td>France</td>\n",
              "      <td>33</td>\n",
              "    </tr>\n",
              "    <tr>\n",
              "      <th>10</th>\n",
              "      <td>Germany</td>\n",
              "      <td>49</td>\n",
              "    </tr>\n",
              "    <tr>\n",
              "      <th>11</th>\n",
              "      <td>Greece</td>\n",
              "      <td>30</td>\n",
              "    </tr>\n",
              "    <tr>\n",
              "      <th>12</th>\n",
              "      <td>Hungary</td>\n",
              "      <td>36</td>\n",
              "    </tr>\n",
              "    <tr>\n",
              "      <th>13</th>\n",
              "      <td>Iceland</td>\n",
              "      <td>354</td>\n",
              "    </tr>\n",
              "    <tr>\n",
              "      <th>14</th>\n",
              "      <td>Ireland</td>\n",
              "      <td>353</td>\n",
              "    </tr>\n",
              "    <tr>\n",
              "      <th>15</th>\n",
              "      <td>Italy</td>\n",
              "      <td>39</td>\n",
              "    </tr>\n",
              "    <tr>\n",
              "      <th>16</th>\n",
              "      <td>Latvia</td>\n",
              "      <td>371</td>\n",
              "    </tr>\n",
              "    <tr>\n",
              "      <th>17</th>\n",
              "      <td>Liechtenstein</td>\n",
              "      <td>423</td>\n",
              "    </tr>\n",
              "    <tr>\n",
              "      <th>18</th>\n",
              "      <td>Lithuania</td>\n",
              "      <td>370</td>\n",
              "    </tr>\n",
              "    <tr>\n",
              "      <th>19</th>\n",
              "      <td>Luxembourg</td>\n",
              "      <td>352</td>\n",
              "    </tr>\n",
              "  </tbody>\n",
              "</table>\n",
              "</div>"
            ],
            "text/plain": [
              "           Country Country calling code\n",
              "0          Austria                   43\n",
              "1          Belgium                   32\n",
              "2         Bulgaria                  359\n",
              "3          Croatia                  385\n",
              "4           Cyprus                  357\n",
              "5   Czech Republic                  420\n",
              "6          Denmark                   45\n",
              "7          Estonia                  372\n",
              "8          Finland                  358\n",
              "9           France                   33\n",
              "10         Germany                   49\n",
              "11          Greece                   30\n",
              "12         Hungary                   36\n",
              "13         Iceland                  354\n",
              "14         Ireland                  353\n",
              "15           Italy                   39\n",
              "16          Latvia                  371\n",
              "17   Liechtenstein                  423\n",
              "18       Lithuania                  370\n",
              "19      Luxembourg                  352"
            ]
          },
          "metadata": {},
          "execution_count": 44
        }
      ]
    },
    {
      "cell_type": "code",
      "metadata": {
        "id": "SZfNGQumb4i-"
      },
      "source": [
        "codes = {'43': 'Austria','32': 'Belgium','358': 'Finland','33': 'France','49': 'Germany','30': 'Greece', '36' : 'Hungary','354' : 'Iceland','353' : 'Ireland','39': 'Italy'}"
      ],
      "execution_count": 47,
      "outputs": []
    },
    {
      "cell_type": "code",
      "metadata": {
        "colab": {
          "base_uri": "https://localhost:8080/"
        },
        "id": "gRhw7p4e4pHO",
        "outputId": "2dac4f6b-74f9-4c7b-d187-7aa9e2fa2789"
      },
      "source": [
        "codes"
      ],
      "execution_count": 49,
      "outputs": [
        {
          "output_type": "execute_result",
          "data": {
            "text/plain": [
              "{'30': 'Greece',\n",
              " '32': 'Belgium',\n",
              " '33': 'France',\n",
              " '353': 'Ireland',\n",
              " '354': 'Iceland',\n",
              " '358': 'Finland',\n",
              " '36': 'Hungary',\n",
              " '39': 'Italy',\n",
              " '43': 'Austria',\n",
              " '49': 'Germany'}"
            ]
          },
          "metadata": {},
          "execution_count": 49
        }
      ]
    },
    {
      "cell_type": "code",
      "metadata": {
        "colab": {
          "base_uri": "https://localhost:8080/"
        },
        "id": "wiur_sq747Xr",
        "outputId": "3dfa113a-2018-4dcf-c2d2-fc49e2904ab9"
      },
      "source": [
        "my_code = input('What is your country code? ')"
      ],
      "execution_count": 50,
      "outputs": [
        {
          "name": "stdout",
          "output_type": "stream",
          "text": [
            "What is your country code? 33\n"
          ]
        }
      ]
    },
    {
      "cell_type": "code",
      "metadata": {
        "colab": {
          "base_uri": "https://localhost:8080/",
          "height": 35
        },
        "id": "PxJp54Ki5R28",
        "outputId": "a1db12fc-0c51-4d96-a785-f7679eb84b64"
      },
      "source": [
        "my_code"
      ],
      "execution_count": 51,
      "outputs": [
        {
          "output_type": "execute_result",
          "data": {
            "application/vnd.google.colaboratory.intrinsic+json": {
              "type": "string"
            },
            "text/plain": [
              "'33'"
            ]
          },
          "metadata": {},
          "execution_count": 51
        }
      ]
    },
    {
      "cell_type": "code",
      "metadata": {
        "colab": {
          "base_uri": "https://localhost:8080/",
          "height": 35
        },
        "id": "JhXqb4Yw5aWV",
        "outputId": "de72fb2e-f9b4-490a-80d8-b6982c04096d"
      },
      "source": [
        "codes[my_code]"
      ],
      "execution_count": 52,
      "outputs": [
        {
          "output_type": "execute_result",
          "data": {
            "application/vnd.google.colaboratory.intrinsic+json": {
              "type": "string"
            },
            "text/plain": [
              "'France'"
            ]
          },
          "metadata": {},
          "execution_count": 52
        }
      ]
    },
    {
      "cell_type": "markdown",
      "metadata": {
        "id": "MDof4RHJb4i-"
      },
      "source": [
        "#### 12) Write a piece of code that reads 6 numbers in a row. Next, show the number of positive values entered. On the next line, print the average of the values to one decimal place. "
      ]
    },
    {
      "cell_type": "code",
      "metadata": {
        "id": "d30FOurCb4i_",
        "colab": {
          "base_uri": "https://localhost:8080/"
        },
        "outputId": "1f28c15b-a758-4c83-a17f-e963acb9ce78"
      },
      "source": [
        "my_new_list= ('5','7','15','1','12','2')\n",
        "print(my_new_list)"
      ],
      "execution_count": 73,
      "outputs": [
        {
          "output_type": "stream",
          "name": "stdout",
          "text": [
            "('5', '7', '15', '1', '12', '2')\n"
          ]
        }
      ]
    },
    {
      "cell_type": "code",
      "metadata": {
        "colab": {
          "base_uri": "https://localhost:8080/",
          "height": 183
        },
        "id": "9cgv1We5Gy4n",
        "outputId": "bb62ab5d-f909-4259-e2c7-779a20725f86"
      },
      "source": [
        "my_new_list=int\n",
        "sum(my_new_list)/6"
      ],
      "execution_count": 81,
      "outputs": [
        {
          "output_type": "error",
          "ename": "TypeError",
          "evalue": "ignored",
          "traceback": [
            "\u001b[0;31m---------------------------------------------------------------------------\u001b[0m",
            "\u001b[0;31mTypeError\u001b[0m                                 Traceback (most recent call last)",
            "\u001b[0;32m<ipython-input-81-7f1436cc5ad5>\u001b[0m in \u001b[0;36m<module>\u001b[0;34m()\u001b[0m\n\u001b[1;32m      1\u001b[0m \u001b[0mmy_new_list\u001b[0m\u001b[0;34m=\u001b[0m\u001b[0mint\u001b[0m\u001b[0;34m\u001b[0m\u001b[0;34m\u001b[0m\u001b[0m\n\u001b[0;32m----> 2\u001b[0;31m \u001b[0msum\u001b[0m\u001b[0;34m(\u001b[0m\u001b[0mmy_new_list\u001b[0m\u001b[0;34m)\u001b[0m\u001b[0;34m/\u001b[0m\u001b[0;36m6\u001b[0m\u001b[0;34m\u001b[0m\u001b[0;34m\u001b[0m\u001b[0m\n\u001b[0m",
            "\u001b[0;31mTypeError\u001b[0m: 'type' object is not iterable"
          ]
        }
      ]
    },
    {
      "cell_type": "markdown",
      "metadata": {
        "id": "LM2SHrCfb4i_"
      },
      "source": [
        "#### 13) Read an integer **N**. Then print the **square of each of the even values**, from 1 to N, including N, if applicable, arranged one per line. "
      ]
    },
    {
      "cell_type": "code",
      "metadata": {
        "id": "LMOKla4Ub4i_",
        "colab": {
          "base_uri": "https://localhost:8080/",
          "height": 131
        },
        "outputId": "7d136ec9-3bd8-45db-8460-4f84aab258a7"
      },
      "source": [
        "N = i\n",
        "int(i) for i in range(1,21)*2:\n",
        "    print(i)\n"
      ],
      "execution_count": 70,
      "outputs": [
        {
          "output_type": "error",
          "ename": "SyntaxError",
          "evalue": "ignored",
          "traceback": [
            "\u001b[0;36m  File \u001b[0;32m\"<ipython-input-70-b5fb36363c7e>\"\u001b[0;36m, line \u001b[0;32m2\u001b[0m\n\u001b[0;31m    int(i) for i in range(1,21)*2:\u001b[0m\n\u001b[0m             ^\u001b[0m\n\u001b[0;31mSyntaxError\u001b[0m\u001b[0;31m:\u001b[0m invalid syntax\n"
          ]
        }
      ]
    },
    {
      "cell_type": "markdown",
      "metadata": {
        "id": "QtEvqSDOb4i_"
      },
      "source": [
        "#### 14) Using **input()**, read an integer and print its classification as **'even / odd'** and **'positive / negative'** . The two classes for the number must be printed on the same line separated by a space. In the case of zero, print only **'null'**. "
      ]
    },
    {
      "cell_type": "code",
      "metadata": {
        "id": "0OJsMFqAb4i_",
        "colab": {
          "base_uri": "https://localhost:8080/"
        },
        "outputId": "9381e42f-3396-4a11-edeb-c03d6b7bec36"
      },
      "source": [
        "my_new_integer = int(input())\n",
        "if my_new_integer %2 and my_new_integer > 0:\n",
        "    print('even positive')\n",
        "elif my_new_integer == 0:\n",
        "    print('null')\n",
        "elif my_new_integer < 0 and my_new_integer %2 == 0:\n",
        "    print('even negative')\n",
        "elif my_new_integer > 0 and my_new_integer %2 != 0:\n",
        "    print('odd positive')\n",
        "else:\n",
        "    print('odd negative')\n",
        "          "
      ],
      "execution_count": null,
      "outputs": [
        {
          "output_type": "stream",
          "name": "stdout",
          "text": [
            "0\n",
            "null\n"
          ]
        }
      ]
    },
    {
      "cell_type": "markdown",
      "metadata": {
        "id": "-ccBNGV_b4i_"
      },
      "source": [
        "## Challenge\n",
        "#### 15) Ordering problems are recurrent in the history of programming. Over time, several algorithms have been developed to fulfill this function. The simplest of these algorithms is the [**Bubble Sort**](https://en.wikipedia.org/wiki/Bubble_sort), which is based on comparisons of elements two by two in a loop of passes through the elements. Your mission, if you decide to accept it, will be to input six whole numbers ramdonly ordered. Then implement the **Bubble Sort** principle to order these six numbers **using only loops and conditionals**.  \n",
        "#### At the end, print the six numbers in ascending order on a single line separated by spaces. "
      ]
    },
    {
      "cell_type": "code",
      "metadata": {
        "id": "nZmFNt8Db4jA"
      },
      "source": [
        ""
      ],
      "execution_count": null,
      "outputs": []
    }
  ]
}